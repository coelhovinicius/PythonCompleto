{
 "cells": [
  {
   "cell_type": "markdown",
   "id": "0c2c1f32",
   "metadata": {},
   "source": [
    "Iniciando com Python"
   ]
  },
  {
   "cell_type": "code",
   "execution_count": 2,
   "id": "2ef690f8",
   "metadata": {},
   "outputs": [
    {
     "name": "stdout",
     "output_type": "stream",
     "text": [
      "Teste\n"
     ]
    }
   ],
   "source": [
    "print('Teste')"
   ]
  },
  {
   "cell_type": "code",
   "execution_count": 7,
   "id": "42cb7f89",
   "metadata": {},
   "outputs": [
    {
     "name": "stdout",
     "output_type": "stream",
     "text": [
      "01091981\n"
     ]
    }
   ],
   "source": [
    "print('01091981')"
   ]
  },
  {
   "cell_type": "code",
   "execution_count": 8,
   "id": "1cf96538",
   "metadata": {},
   "outputs": [
    {
     "name": "stdout",
     "output_type": "stream",
     "text": [
      "102030\n"
     ]
    }
   ],
   "source": [
    "print(102030)"
   ]
  }
 ],
 "metadata": {
  "kernelspec": {
   "display_name": "Python 3 (ipykernel)",
   "language": "python",
   "name": "python3"
  },
  "language_info": {
   "codemirror_mode": {
    "name": "ipython",
    "version": 3
   },
   "file_extension": ".py",
   "mimetype": "text/x-python",
   "name": "python",
   "nbconvert_exporter": "python",
   "pygments_lexer": "ipython3",
   "version": "3.11.5"
  }
 },
 "nbformat": 4,
 "nbformat_minor": 5
}
