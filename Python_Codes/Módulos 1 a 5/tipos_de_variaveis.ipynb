{
 "cells": [
  {
   "cell_type": "code",
   "execution_count": 5,
   "metadata": {},
   "outputs": [
    {
     "name": "stdout",
     "output_type": "stream",
     "text": [
      "<class 'int'>\n",
      "<class 'float'>\n",
      "<class 'str'>\n",
      "<class 'bool'>\n"
     ]
    }
   ],
   "source": [
    "tipo_de_variavel = 1000\n",
    "type (tipo_de_variavel)\n",
    "print(type (tipo_de_variavel))\n",
    "\n",
    "tipo_de_variavel = 1000.00\n",
    "type (tipo_de_variavel)\n",
    "print(type (tipo_de_variavel))\n",
    "\n",
    "tipo_de_variavel = '1000.00'\n",
    "type (tipo_de_variavel)\n",
    "print(type (tipo_de_variavel))\n",
    "\n",
    "tipo_de_variavel = True\n",
    "type (tipo_de_variavel)\n",
    "print(type (tipo_de_variavel))"
   ]
  },
  {
   "cell_type": "code",
   "execution_count": 8,
   "metadata": {},
   "outputs": [
    {
     "name": "stdout",
     "output_type": "stream",
     "text": [
      "Valores do último ano:\n",
      "Quanditade de Vendas de Coca = 150 unidades\n",
      "Quanditade de Vendas de Pepsi = 130 unidades\n",
      "Preço Unitário da Coca = 1.5 reais\n",
      "Preço Unitário Pepsi = 1.5 reais\n",
      "Custo da Loja = 2500 reais\n"
     ]
    }
   ],
   "source": [
    "qtd_vendas_coca = 150\n",
    "qtd_vendas_pepsi = 130\n",
    "preco_unit_coca = 1.5\n",
    "preco_unit_pepsi = 1.5\n",
    "custo_loja = 2500\n",
    "print('Valores do último ano:')\n",
    "print('Quanditade de Vendas de Coca = ' + str(qtd_vendas_coca) + ' unidades')\n",
    "print('Quanditade de Vendas de Pepsi = ' + str(qtd_vendas_pepsi) + ' unidades')\n",
    "print('Preço Unitário da Coca = ' + str(preco_unit_coca) + ' reais')\n",
    "print('Preço Unitário Pepsi = ' + str(preco_unit_pepsi) + ' reais')\n",
    "print('Custo da Loja = ' + str(custo_loja) + ' reais')"
   ]
  },
  {
   "cell_type": "code",
   "execution_count": 10,
   "metadata": {},
   "outputs": [
    {
     "name": "stdout",
     "output_type": "stream",
     "text": [
      "Valores do último ano:\n",
      "Quanditade de Vendas de Coca: 150 unidades\n",
      "Quanditade de Vendas de Pepsi: 130 unidades\n",
      "Preço Unitário da Coca = 1.5 reais\n",
      "Preço Unitário Pepsi = 1.5 reais\n",
      "Custo da Loja = 2500 reais\n",
      "Quanditade de Vendas de Coca: 150 unidades. Quanditade de Vendas de Pepsi: 130 unidades. Preço Unitário da Coca = 1.5 reais. Preço Unitário Pepsi = 1.5 reais. Custo da Loja = 2500 reais.\n"
     ]
    }
   ],
   "source": [
    "qtd_vendas_coca = 150\n",
    "qtd_vendas_pepsi = 130\n",
    "preco_unit_coca = 1.5\n",
    "preco_unit_pepsi = 1.5\n",
    "custo_loja = 2500\n",
    "print('Valores do último ano:')\n",
    "print('Quanditade de Vendas de Coca: {} unidades'.format(qtd_vendas_coca))\n",
    "print('Quanditade de Vendas de Pepsi: {} unidades'.format(qtd_vendas_pepsi))\n",
    "print('Preço Unitário da Coca = {} reais'.format(preco_unit_coca))\n",
    "print('Preço Unitário Pepsi = {} reais'.format(preco_unit_pepsi))\n",
    "print('Custo da Loja = {} reais'.format(custo_loja))\n",
    "\n",
    "print('Quanditade de Vendas de Coca: {} unidades. Quanditade de Vendas de Pepsi: {} unidades. Preço Unitário da Coca = {} reais. Preço Unitário Pepsi = {} reais. Custo da Loja = {} reais.'.format(qtd_vendas_coca, qtd_vendas_pepsi, preco_unit_coca, preco_unit_pepsi, custo_loja))"
   ]
  }
 ],
 "metadata": {
  "kernelspec": {
   "display_name": "Python 3",
   "language": "python",
   "name": "python3"
  },
  "language_info": {
   "codemirror_mode": {
    "name": "ipython",
    "version": 3
   },
   "file_extension": ".py",
   "mimetype": "text/x-python",
   "name": "python",
   "nbconvert_exporter": "python",
   "pygments_lexer": "ipython3",
   "version": "3.11.5"
  }
 },
 "nbformat": 4,
 "nbformat_minor": 2
}
