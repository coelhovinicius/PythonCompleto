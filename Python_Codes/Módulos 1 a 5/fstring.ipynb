{
 "cells": [
  {
   "cell_type": "markdown",
   "metadata": {},
   "source": [
    "## F-String"
   ]
  },
  {
   "cell_type": "code",
   "execution_count": 4,
   "metadata": {},
   "outputs": [
    {
     "name": "stdout",
     "output_type": "stream",
     "text": [
      "O faturamento foi de 1000 e o lucro foi de 600.\n",
      "O faturamento foi de 1000 e o lucro foi de 600.\n",
      "O faturamento foi de 1000 e o lucro foi de 600.\n",
      "O faturamento foi de 1000 e o lucro foi de 600.\n"
     ]
    }
   ],
   "source": [
    "faturamento = 1000\n",
    "custo = 400\n",
    "\n",
    "lucro = faturamento - custo\n",
    "\n",
    "# com format\n",
    "print('O faturamento foi de {} e o lucro foi de {}.'.format(faturamento, lucro))\n",
    "# podemos fazer contas com variáveis dentro do format\n",
    "print('O faturamento foi de {} e o lucro foi de {}.'.format(faturamento, faturamento - custo))\n",
    "\n",
    "# com fstring\n",
    "print(f'O faturamento foi de {faturamento} e o lucro foi de {lucro}.')\n",
    "# podemos fazer contas com variáveis dentro do fstring\n",
    "print(f'O faturamento foi de {faturamento} e o lucro foi de {faturamento - custo}.')"
   ]
  },
  {
   "cell_type": "markdown",
   "metadata": {},
   "source": [
    "## Mudança de Tipo de Variável"
   ]
  },
  {
   "cell_type": "code",
   "execution_count": 6,
   "metadata": {},
   "outputs": [
    {
     "name": "stdout",
     "output_type": "stream",
     "text": [
      "<class 'float'>\n",
      "<class 'float'>\n",
      "4700.0\n"
     ]
    }
   ],
   "source": [
    "# str -> muda para String\n",
    "# int -> muda para Inteiro\n",
    "# float -> muda para Float\n",
    "\n",
    "faturamento = float(input('Insira o faturamento: '))\n",
    "custo = float(input('Insira o custo: '))\n",
    "\n",
    "print(type(faturamento))\n",
    "print(type(custo))\n",
    "\n",
    "lucro = faturamento - custo\n",
    "\n",
    "print(lucro)"
   ]
  }
 ],
 "metadata": {
  "kernelspec": {
   "display_name": "Python 3",
   "language": "python",
   "name": "python3"
  },
  "language_info": {
   "codemirror_mode": {
    "name": "ipython",
    "version": 3
   },
   "file_extension": ".py",
   "mimetype": "text/x-python",
   "name": "python",
   "nbconvert_exporter": "python",
   "pygments_lexer": "ipython3",
   "version": "3.11.5"
  }
 },
 "nbformat": 4,
 "nbformat_minor": 2
}
