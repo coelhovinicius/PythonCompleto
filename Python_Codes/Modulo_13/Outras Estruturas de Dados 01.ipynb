{
 "cells": [
  {
   "cell_type": "markdown",
   "metadata": {},
   "source": [
    "# O que é um iterable?\n",
    "\n",
    "### Explicação não programadora\n",
    "\n",
    "Um iterable é uma estrutura que armazena dados que pode ser \"iterada\" ou seja, que você pode fazer um loop como um for dentro dela e ir passando de item a item. É como se fosse um tipo de lista de coisas que você pode ir olhando cada um dos elementos dentro dela.\n",
    "\n",
    "Até agora as principais que vimos foram:\n",
    "\n",
    "- Listas"
   ]
  },
  {
   "cell_type": "code",
   "execution_count": 4,
   "metadata": {},
   "outputs": [
    {
     "name": "stdout",
     "output_type": "stream",
     "text": [
      "Iphone\n",
      "Samsung Galaxy\n",
      "Tv Samsung\n",
      "Ps5\n",
      "Tablet\n",
      "Ipad\n",
      "Tv Philco\n",
      "Notebook Hp\n",
      "Notebook Dell\n",
      "Notebook Asus\n"
     ]
    }
   ],
   "source": [
    "produtos = ['iphone', 'samsung galaxy', 'tv samsung', 'ps5', 'tablet', 'ipad', 'tv philco', 'notebook hp', 'notebook dell', 'notebook asus']\n",
    "\n",
    "for produto in produtos:\n",
    "    print(produto.title())"
   ]
  },
  {
   "cell_type": "markdown",
   "metadata": {},
   "source": [
    "- Strings"
   ]
  },
  {
   "cell_type": "code",
   "execution_count": 8,
   "metadata": {},
   "outputs": [
    {
     "name": "stdout",
     "output_type": "stream",
     "text": [
      "v\n",
      "i\n",
      "n\n",
      "i\n",
      "c\n",
      "i\n",
      "u\n",
      "s\n",
      "@\n",
      "g\n",
      "m\n",
      "a\n",
      "i\n",
      "l\n",
      ".\n",
      "c\n",
      "o\n",
      "m\n"
     ]
    }
   ],
   "source": [
    "texto = 'vinicius@gmail.com'\n",
    "\n",
    "for ch in texto:\n",
    "    print(ch)"
   ]
  },
  {
   "cell_type": "markdown",
   "metadata": {},
   "source": [
    "- Tuplas"
   ]
  },
  {
   "cell_type": "code",
   "execution_count": 11,
   "metadata": {},
   "outputs": [
    {
     "name": "stdout",
     "output_type": "stream",
     "text": [
      "Iphone\n",
      "Samsung Galaxy\n",
      "Tv Samsung\n",
      "Ps5\n",
      "Tablet\n",
      "Ipad\n",
      "Tv Philco\n",
      "Notebook Hp\n",
      "Notebook Dell\n",
      "Notebook Asus\n"
     ]
    }
   ],
   "source": [
    "produtos = ('iphone', 'samsung galaxy', 'tv samsung', 'ps5', 'tablet', 'ipad', 'tv philco', 'notebook hp', 'notebook dell', 'notebook asus')\n",
    "\n",
    "for produto in produtos:\n",
    "    print(produto.title())\n"
   ]
  },
  {
   "cell_type": "markdown",
   "metadata": {},
   "source": [
    "- Dicionários"
   ]
  },
  {
   "cell_type": "code",
   "execution_count": 20,
   "metadata": {},
   "outputs": [
    {
     "name": "stdout",
     "output_type": "stream",
     "text": [
      "Iphone: 15000 unidades\n",
      "Samsung Galaxy: 12000 unidades\n",
      "Tv Samsung: 10000 unidades\n",
      "Ps5: 14300 unidades\n",
      "Tablet: 1720 unidades\n",
      "Ipad: 1000 unidades\n",
      "Tv Philco: 2500 unidades\n",
      "Notebook Hp: 1000 unidades\n",
      "Notebook Dell: 17000 unidades\n",
      "Notebook Asus: 2450 unidades\n"
     ]
    }
   ],
   "source": [
    "vendas_produtos = {'iphone': 15000, 'samsung galaxy': 12000, 'tv samsung': 10000, 'ps5': 14300, 'tablet': 1720, 'ipad': 1000, 'tv philco': 2500, 'notebook hp': 1000, 'notebook dell': 17000, 'notebook asus': 2450}\n",
    "\n",
    "for produto in vendas_produtos:\n",
    "    #print(produto.title())\n",
    "    print('{}: {} unidades'.format(produto.title(), vendas_produtos[produto]))"
   ]
  },
  {
   "cell_type": "markdown",
   "metadata": {},
   "source": [
    "- Vamos falar nesse módulo de algumas outras, mas esse conceito é importante porque várias funções do python usam isso para explicar como as coisas funcionam. Então é importante que quando você ler o termo \"iterable\" você entenda o que estão falando: \"é tipo uma lista de coisas que eu posso percorrer e fazer alguma ação com cada uma das coisas dentro dessa lista\""
   ]
  }
 ],
 "metadata": {
  "kernelspec": {
   "display_name": "Python 3",
   "language": "python",
   "name": "python3"
  },
  "language_info": {
   "codemirror_mode": {
    "name": "ipython",
    "version": 3
   },
   "file_extension": ".py",
   "mimetype": "text/x-python",
   "name": "python",
   "nbconvert_exporter": "python",
   "pygments_lexer": "ipython3",
   "version": "3.11.5"
  }
 },
 "nbformat": 4,
 "nbformat_minor": 4
}
