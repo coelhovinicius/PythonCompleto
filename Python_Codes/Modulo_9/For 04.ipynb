{
 "cells": [
  {
   "cell_type": "markdown",
   "metadata": {},
   "source": [
    "# Enumerate\n",
    "\n",
    "### Estrutura:\n",
    "\n",
    "O enumerate permite que você percorra uma lista e ao mesmo tempo tenha em uma variável o índice daquele item.\n",
    "\n",
    "- for normalmente"
   ]
  },
  {
   "cell_type": "raw",
   "metadata": {},
   "source": [
    "for item in lista:\n",
    "    resto do código"
   ]
  },
  {
   "cell_type": "code",
   "execution_count": 2,
   "metadata": {},
   "outputs": [
    {
     "name": "stdout",
     "output_type": "stream",
     "text": [
      "Maria\n",
      "José\n",
      "Antônio\n",
      "João\n",
      "Francisco\n",
      "Ana\n",
      "Luiz\n",
      "Paulo\n",
      "Carlos\n",
      "Manoel\n",
      "Pedro\n",
      "Francisca\n",
      "Marcos\n",
      "Raimundo\n",
      "Sebastião\n",
      "Antônia\n",
      "Marcelo\n",
      "Jorge\n",
      "Márcia\n",
      "Geraldo\n",
      "Adriana\n",
      "Sandra\n",
      "Luis\n"
     ]
    }
   ],
   "source": [
    "funcionarios = ['Maria', 'José', 'Antônio', 'João', 'Francisco', 'Ana', 'Luiz', 'Paulo', 'Carlos', 'Manoel', 'Pedro', 'Francisca', 'Marcos', 'Raimundo', 'Sebastião', 'Antônia', 'Marcelo', 'Jorge', 'Márcia', 'Geraldo', 'Adriana', 'Sandra', 'Luis']\n",
    "for funcionario in funcionarios:\n",
    "    print(funcionario)"
   ]
  },
  {
   "cell_type": "raw",
   "metadata": {},
   "source": [
    "for i, item in enumerate(lista):\n",
    "    resto do código"
   ]
  },
  {
   "cell_type": "code",
   "execution_count": 1,
   "metadata": {
    "scrolled": false
   },
   "outputs": [
    {
     "name": "stdout",
     "output_type": "stream",
     "text": [
      "Índice 0: funcionário Maria\n",
      "Índice 1: funcionário José\n",
      "Índice 2: funcionário Antônio\n",
      "Índice 3: funcionário João\n",
      "Índice 4: funcionário Francisco\n",
      "Índice 5: funcionário Ana\n",
      "Índice 6: funcionário Luiz\n",
      "Índice 7: funcionário Paulo\n",
      "Índice 8: funcionário Carlos\n",
      "Índice 9: funcionário Manoel\n",
      "Índice 10: funcionário Pedro\n",
      "Índice 11: funcionário Francisca\n",
      "Índice 12: funcionário Marcos\n",
      "Índice 13: funcionário Raimundo\n",
      "Índice 14: funcionário Sebastião\n",
      "Índice 15: funcionário Antônia\n",
      "Índice 16: funcionário Marcelo\n",
      "Índice 17: funcionário Jorge\n",
      "Índice 18: funcionário Márcia\n",
      "Índice 19: funcionário Geraldo\n",
      "Índice 20: funcionário Adriana\n",
      "Índice 21: funcionário Sandra\n",
      "Índice 22: funcionário Luis\n"
     ]
    }
   ],
   "source": [
    "funcionarios = ['Maria', 'José', 'Antônio', 'João', 'Francisco', 'Ana', 'Luiz', 'Paulo', 'Carlos', 'Manoel', 'Pedro', 'Francisca', 'Marcos', 'Raimundo', 'Sebastião', 'Antônia', 'Marcelo', 'Jorge', 'Márcia', 'Geraldo', 'Adriana', 'Sandra', 'Luis']\n",
    "\n",
    "for i, funcionario in enumerate(funcionarios):\n",
    "    print('Índice {}: funcionário {}'.format(i, funcionario))"
   ]
  },
  {
   "cell_type": "markdown",
   "metadata": {},
   "source": [
    "### Exemplo Prático\n",
    "\n",
    "Vamos pegar um exemplo de nível mínimo de estoque. Em uma fábrica você tem vários produtos e não pode deixar que os produtos fiquem em falta. Para isso, foi definido uma quantidade mínima de estoque que os produtos precisam ter:\n",
    "\n",
    "Identifique quais produtos estão abaixo do nível mínimo de estoque."
   ]
  },
  {
   "cell_type": "code",
   "execution_count": 3,
   "metadata": {},
   "outputs": [
    {
     "name": "stdout",
     "output_type": "stream",
     "text": [
      "Dolly está com o estoque abaixo do mínimo. Apenas 20 unidades em estoque.\n",
      "Red bull está com o estoque abaixo do mínimo. Apenas 23 unidades em estoque.\n"
     ]
    }
   ],
   "source": [
    "estoque = [1200, 300, 800, 1500, 1900, 2750, 400, 20, 23, 70, 90, 80, 1100, 999, 900, 880, 870, 50, 1111, 120, 300, 450, 800]\n",
    "produtos = ['coca', 'pepsi', 'guarana', 'skol', 'brahma', 'agua', 'del valle', 'dolly', 'red bull', 'cachaça', 'vinho tinto', 'vodka', 'vinho branco', 'tequila', 'champagne', 'gin', 'guaracamp', 'matte', 'leite de castanha', 'leite', 'jurupinga', 'sprite', 'fanta']\n",
    "nivel_minimo = 50\n",
    "\n",
    "for i, qtde in enumerate(estoque):\n",
    "    if qtde < nivel_minimo:\n",
    "        print('{} está com o estoque abaixo do mínimo. Apenas {} unidades em estoque.'.format(produtos[i].capitalize(), qtde))"
   ]
  }
 ],
 "metadata": {
  "kernelspec": {
   "display_name": "Python 3",
   "language": "python",
   "name": "python3"
  },
  "language_info": {
   "codemirror_mode": {
    "name": "ipython",
    "version": 3
   },
   "file_extension": ".py",
   "mimetype": "text/x-python",
   "name": "python",
   "nbconvert_exporter": "python",
   "pygments_lexer": "ipython3",
   "version": "3.11.5"
  }
 },
 "nbformat": 4,
 "nbformat_minor": 4
}
