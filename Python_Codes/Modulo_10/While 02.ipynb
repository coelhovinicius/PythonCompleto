{
 "cells": [
  {
   "cell_type": "markdown",
   "metadata": {},
   "source": [
    "# Cuidado com o while -> Loop Infinito\n",
    "\n",
    "Sempre que for usar o comando while, lembre-se de ter certeza que o programa vai terminar em algum momento\n",
    "\n",
    "### Exemplo\n",
    "\n",
    "Digamos que temos uma lista de vendedores e as quantidades vendidas e queremos identificar todos os vendedores que bateram a meta de 50 vendas."
   ]
  },
  {
   "cell_type": "code",
   "execution_count": 2,
   "metadata": {},
   "outputs": [
    {
     "name": "stdout",
     "output_type": "stream",
     "text": [
      "Vendedor Maria bateu a meta: 941 vendas\n",
      "Vendedor José bateu a meta: 852 vendas\n",
      "Vendedor Antônio bateu a meta: 783 vendas\n",
      "Vendedor João bateu a meta: 714 vendas\n",
      "Vendedor Francisco bateu a meta: 697 vendas\n",
      "Vendedor Ana bateu a meta: 686 vendas\n",
      "Vendedor Luiz bateu a meta: 685 vendas\n",
      "Vendedor Paulo bateu a meta: 670 vendas\n",
      "Vendedor Carlos bateu a meta: 631 vendas\n",
      "Vendedor Manoel bateu a meta: 453 vendas\n",
      "Vendedor Pedro bateu a meta: 386 vendas\n",
      "Vendedor Francisca bateu a meta: 371 vendas\n",
      "Vendedor Marcos bateu a meta: 294 vendas\n",
      "Vendedor Raimundo bateu a meta: 269 vendas\n",
      "Vendedor Sebastião bateu a meta: 259 vendas\n",
      "Vendedor Antônia bateu a meta: 218 vendas\n",
      "Vendedor Marcelo bateu a meta: 208 vendas\n",
      "Vendedor Jorge bateu a meta: 163 vendas\n",
      "Vendedor Márcia bateu a meta: 125 vendas\n",
      "Vendedor Geraldo bateu a meta: 102 vendas\n",
      "Vendedor Adriana bateu a meta: 87 vendas\n"
     ]
    }
   ],
   "source": [
    "vendas = [941, 852, 783, 714, 697, 686, 685, 670, 631, 453, 386, 371, 294, 269, 259, 218, 208, 163, 125, 102, 87, 47, 7]\n",
    "vendedores = ['Maria', 'José', 'Antônio', 'João', 'Francisco', 'Ana', 'Luiz', 'Paulo', 'Carlos', 'Manoel', 'Pedro', 'Francisca', 'Marcos', 'Raimundo', 'Sebastião', 'Antônia', 'Marcelo', 'Jorge', 'Márcia', 'Geraldo', 'Adriana', 'Sandra', 'Luis']\n",
    "meta = 50\n",
    "\n",
    "i = 0\n",
    "\n",
    "while vendas[i] > meta:\n",
    "    print('Vendedor {} bateu a meta: {} vendas'.format(vendedores[i], vendas[i]))\n",
    "    i += 1"
   ]
  }
 ],
 "metadata": {
  "kernelspec": {
   "display_name": "Python 3",
   "language": "python",
   "name": "python3"
  },
  "language_info": {
   "codemirror_mode": {
    "name": "ipython",
    "version": 3
   },
   "file_extension": ".py",
   "mimetype": "text/x-python",
   "name": "python",
   "nbconvert_exporter": "python",
   "pygments_lexer": "ipython3",
   "version": "3.11.5"
  }
 },
 "nbformat": 4,
 "nbformat_minor": 4
}
