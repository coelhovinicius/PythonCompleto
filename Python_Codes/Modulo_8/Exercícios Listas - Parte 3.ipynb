{
 "cells": [
  {
   "cell_type": "markdown",
   "metadata": {},
   "source": [
    "### Exercício 1\n",
    "### Crie um sistema de cadastro de produtos em uma lista de produtos\n",
    "Seu sistema deve:\n",
    "- Pegar o usuário qual produto vai ser cadastrado por meio de um input\n",
    "- Garantir que se o usuário escrever com letra maiúscula ou minúscula, o produto continua sendo o mesmo produto\n",
    "- Se o usuário inserir um produto que já existe na lista, o programa deve printar a mensagem \"Produto já existente, tente novamente\"\n",
    "- Se o usuário inserir um produto que não existe na lista, o programa deve inserir na lista, printar a mensagem Produto X cadastrado com sucesso e em seguida printar a lista completa"
   ]
  },
  {
   "cell_type": "code",
   "execution_count": 14,
   "metadata": {},
   "outputs": [
    {
     "name": "stdout",
     "output_type": "stream",
     "text": [
      "['celular', 'camera', 'fone de ouvido', 'monitor']\n",
      "Produto Mamão cadastrado com sucesso!\n",
      "['celular', 'camera', 'fone de ouvido', 'monitor', 'mamão']\n"
     ]
    }
   ],
   "source": [
    "produtos = [\"celular\", \"camera\", \"fone de ouvido\", \"monitor\"]\n",
    "print(produtos)\n",
    "\n",
    "novo_produto = input('Digite o nome do produto a ser cadastrado: ').casefold()\n",
    "\n",
    "if novo_produto in produtos:\n",
    "    print('Produto já cadastrado')\n",
    "else:\n",
    "    produtos.append(novo_produto)\n",
    "    print('Produto {} cadastrado com sucesso!'.format(novo_produto.capitalize()))\n",
    "    print(produtos)\n"
   ]
  },
  {
   "cell_type": "markdown",
   "metadata": {},
   "source": [
    "### Exercício 2\n",
    "#### Crie um sistema de consulta de preços\n",
    "Seu sistema deve:\n",
    "- Pedir para o usuário o nome de um produto\n",
    "- Caso o produto exista na lista de produtos, o programa deve retornar o preço do produto como resposta\n",
    "       - Ex: O produto celular custa R$1500\n",
    "- Caso o produto não exista na lista de produtos, o programa deve printar uma mensagem para o usuário tentar novamente\n"
   ]
  },
  {
   "cell_type": "code",
   "execution_count": 25,
   "metadata": {},
   "outputs": [
    {
     "name": "stdout",
     "output_type": "stream",
     "text": [
      "Produto Fone de ouvido tem o valor de R$800.00\n"
     ]
    }
   ],
   "source": [
    "produtos = [\"celular\", \"camera\", \"fone de ouvido\", \"monitor\"]\n",
    "precos = [1500, 1000, 800, 2000]\n",
    "\n",
    "produto = input('Digite o nome do pruduto: ').lower()\n",
    "\n",
    "if produto in produtos:\n",
    "    i_produto = produtos.index(produto)\n",
    "    print('Produto {} tem o valor de R${:,.2f}'.format(produto.capitalize(), precos[i_produto]))\n",
    "\n",
    "else:\n",
    "    print('Produto não cadastrado. Tente novamente.')"
   ]
  },
  {
   "cell_type": "markdown",
   "metadata": {},
   "source": [
    "### Exercício 3\n",
    "#### Crie um sistema de consulta de bônus dos funcionários\n",
    "Seu sistema deve:\n",
    "- Pegar o valor de vendas do funcinoário por meio de um input\n",
    "- Calcular o bônus do funcionário de acordo com a seguinte regra:\n",
    "      - Se o funcionário vendeu mais de 1000 unidades, ele ganha R$2 de bonus para cada unidade vendida\n",
    "      - Se o funcionário vendeu mais de 5000 unidades, ele ganha R$2 de bônus para cada unidade + um valor fixo de R$1000\n",
    "      - Se o funcionário vendeu menos de 1000 unidades, ele não ganha bônus\n",
    "- Printar no final o valor do bônus do funcionário\n"
   ]
  },
  {
   "cell_type": "code",
   "execution_count": 60,
   "metadata": {},
   "outputs": [
    {
     "name": "stdout",
     "output_type": "stream",
     "text": [
      "Total de produtos vendidos: 51648.0 produtos\n",
      "O bônus recebido foi de R$104296.00\n"
     ]
    }
   ],
   "source": [
    "vendas = float(input('Digite a quantidade de produtos vendidos (somente números):'))\n",
    "print('Total de produtos vendidos: {} produtos'.format(vendas))\n",
    "\n",
    "if 1000 < vendas <= 5000:\n",
    "    bonus = vendas * 2\n",
    "\n",
    "elif vendas > 5000:\n",
    "    bonus = vendas * 2 + 1000\n",
    "\n",
    "else:\n",
    "    bonus = 0\n",
    "\n",
    "print('O bônus recebido foi de R${:.2f}'.format(bonus))"
   ]
  },
  {
   "cell_type": "markdown",
   "metadata": {},
   "source": [
    "### Exercício 4\n",
    "Crie um programa que consiga descobrir qual dos vendedores vendeu mais\n",
    "<br>As vendas dos vendedores são listas com a quantidade vendida por cada vendedor"
   ]
  },
  {
   "cell_type": "code",
   "execution_count": 32,
   "metadata": {},
   "outputs": [
    {
     "name": "stdout",
     "output_type": "stream",
     "text": [
      "O vendedor 1 vendeu 1599 produtos.\n",
      "O vendedor 2 vendeu 1714 produtos\n",
      "O vendedor 2 vendeu vendeu mais produtos: 1714 produtos.\n"
     ]
    }
   ],
   "source": [
    "vendas = [\n",
    "    [10, 20, 100, 80, 90, 100, 20, 30, 44, 55, 33, 34, 100, 90, 80, 39, 87, 45, 50, 50, 50, 50, 40, 30, 3, 93, 39, 49, 88],    \n",
    "    [100, 1, 1, 4, 5, 90, 100, 20, 4, 5, 100, 100, 100, 100, 100, 93, 20, 15, 40, 90, 90, 90, 90, 90, 90, 33, 22, 44, 43, 34],\n",
    "]\n",
    "\n",
    "print('O vendedor 1 vendeu {} produtos.'.format(sum(vendas[0])))\n",
    "print('O vendedor 2 vendeu {} produtos'.format(sum(vendas[1])))\n",
    "\n",
    "if sum(vendas[0]) > sum(vendas[1]):\n",
    "    print('O vendedor 1 vendeu vendeu mais produtos: {} produtos.'.format(sum(vendas[0])))\n",
    "\n",
    "elif sum(vendas[1]) > sum(vendas[0]):\n",
    "    print('O vendedor 2 vendeu vendeu mais produtos: {} produtos.'.format(sum(vendas[1])))\n",
    "\n",
    "else:\n",
    "    print('Os dois vendedores venderam a mesma quantidade de produtos.')"
   ]
  }
 ],
 "metadata": {
  "kernelspec": {
   "display_name": "Python 3",
   "language": "python",
   "name": "python3"
  },
  "language_info": {
   "codemirror_mode": {
    "name": "ipython",
    "version": 3
   },
   "file_extension": ".py",
   "mimetype": "text/x-python",
   "name": "python",
   "nbconvert_exporter": "python",
   "pygments_lexer": "ipython3",
   "version": "3.11.5"
  }
 },
 "nbformat": 4,
 "nbformat_minor": 2
}
