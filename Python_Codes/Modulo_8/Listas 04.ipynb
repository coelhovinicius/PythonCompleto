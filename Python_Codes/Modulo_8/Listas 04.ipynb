{
 "cells": [
  {
   "cell_type": "markdown",
   "metadata": {},
   "source": [
    "# Adicionar e Remover itens de uma lista\n",
    "\n",
    "Adicionar:<br>\n",
    "lista.append(item)\n",
    "\n",
    "Remover:<br>\n",
    "item_removido = lista.pop(indice)<br>\n",
    "lista.remove(item)\n",
    "\n",
    "Digamos que você está construindo o controle de produtos da Apple.<br>\n",
    "E a Apple lançou o IPhone 11 e irá tirar dos seus estoques o IPhone X"
   ]
  },
  {
   "cell_type": "code",
   "execution_count": 22,
   "metadata": {},
   "outputs": [
    {
     "name": "stdout",
     "output_type": "stream",
     "text": [
      "Lista Original: ['apple tv', 'mac', 'iphone x', 'IPad', 'apple watch', 'mac book', 'airpods']\n",
      "Adicionando item \"iphone 14\" à lista: ['apple tv', 'mac', 'iphone x', 'IPad', 'apple watch', 'mac book', 'airpods', 'iphone 14']\n",
      "Removendo item \"iphone x\" da lista utilizando \".remove()\": ['apple tv', 'mac', 'IPad', 'apple watch', 'mac book', 'airpods', 'iphone 14']\n",
      "Item \"iphone x\" removido da lista.\n",
      "Removendo item \"IPad\" da lista utilizando \".pop()\": ['apple tv', 'mac', 'apple watch', 'mac book', 'airpods', 'iphone 14']\n",
      "Item \"iphone x\" removido da lista.\n"
     ]
    }
   ],
   "source": [
    "produtos = ['apple tv', 'mac', 'iphone x', 'IPad', 'apple watch', 'mac book', 'airpods']\n",
    "print('Lista Original: {}'.format(produtos))\n",
    "\n",
    "# Adicionar itens á lista \"produtos\":\n",
    "produto = 'iphone 14'\n",
    "produtos.append(produto)\n",
    "print('Adicionando item \"{}\" à lista: {}'.format(produto, produtos))\n",
    "\n",
    "# Remover itens da lista \"produtos\":\n",
    "produto = 'iphone x'\n",
    "produtos.remove(produto)\n",
    "print('Removendo item \"{}\" da lista utilizando \".remove()\": {}'.format(produto, produtos))\n",
    "print('Item \"{}\" removido da lista.'.format(produto))\n",
    "\n",
    "i = produtos.pop(2)\n",
    "print('Removendo item \"{}\" da lista utilizando \".pop()\": {}'.format(i, produtos))\n",
    "print('Item \"{}\" removido da lista.'.format(produto))"
   ]
  },
  {
   "cell_type": "markdown",
   "metadata": {},
   "source": [
    "## Existem 2 formas de tratar o erro:\n",
    "\n",
    "1. Criar um if para evitar que ele aconteça\n",
    "\n",
    "2. Esperar que ele possa acontecer e tratar caso o erro aconteça com:"
   ]
  },
  {
   "cell_type": "raw",
   "metadata": {},
   "source": [
    "try:\n",
    "    tentar fazer\n",
    "except:\n",
    "    caso dê errado"
   ]
  },
  {
   "cell_type": "code",
   "execution_count": 27,
   "metadata": {},
   "outputs": [
    {
     "name": "stdout",
     "output_type": "stream",
     "text": [
      "Produto não encontrado.\n"
     ]
    }
   ],
   "source": [
    "produtos = ['apple tv', 'mac', 'iphone x', 'IPad', 'apple watch', 'mac book', 'airpods']\n",
    "\n",
    "try:\n",
    "    produtos.remove('iphonex')\n",
    "    print('Produtos: {}'.format(produtos))\n",
    "\n",
    "except:\n",
    "    print('Produto não encontrado.')\n"
   ]
  }
 ],
 "metadata": {
  "kernelspec": {
   "display_name": "Python 3",
   "language": "python",
   "name": "python3"
  },
  "language_info": {
   "codemirror_mode": {
    "name": "ipython",
    "version": 3
   },
   "file_extension": ".py",
   "mimetype": "text/x-python",
   "name": "python",
   "nbconvert_exporter": "python",
   "pygments_lexer": "ipython3",
   "version": "3.11.5"
  }
 },
 "nbformat": 4,
 "nbformat_minor": 4
}
