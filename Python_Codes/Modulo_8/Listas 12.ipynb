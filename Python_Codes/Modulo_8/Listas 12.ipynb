{
 "cells": [
  {
   "cell_type": "markdown",
   "metadata": {},
   "source": [
    "# Listas de Listas\n",
    "\n",
    "### Estrutura:\n",
    "\n",
    "Cada item de uma lista pode ser qualquer tipo de variável. Inclusive, uma lista.\n",
    "\n",
    "Quando dentro de uma lista temos cada item como sendo uma outra lista, temos uma \"nested list\", ou seja, uma lista de listas.\n",
    "\n",
    "Todas as regras de lista e tudo que vimos até agora funciona exatamente igual, mas vamos ver como isso funciona na prática"
   ]
  },
  {
   "cell_type": "code",
   "execution_count": 54,
   "metadata": {},
   "outputs": [],
   "source": [
    "vendedores = ['Vinícius', 'Juliane', 'Cida', 'Augusto']\n",
    "produtos = ['ipad', 'iphone']\n",
    "vendas = [\n",
    "    [100, 200],\n",
    "    [300, 500],\n",
    "    [50, 1000],\n",
    "    [900, 10],\n",
    "]"
   ]
  },
  {
   "cell_type": "markdown",
   "metadata": {},
   "source": [
    "- Quanto João vendeu de IPad?\n",
    "- Quanto Diego vendeu de IPhone\n",
    "- Qual o total de vendas de IPhone?"
   ]
  },
  {
   "cell_type": "code",
   "execution_count": 55,
   "metadata": {},
   "outputs": [
    {
     "name": "stdout",
     "output_type": "stream",
     "text": [
      "['Vinícius', 'Juliane', 'Cida', 'Augusto']\n",
      "['ipad', 'iphone']\n",
      "[[100, 200], [300, 500], [50, 1000], [900, 10]]\n",
      "Juliane vendeu 300 ipad.\n",
      "Vinícius vendeu 200 iphone.\n",
      "Cida vendeu 1000 iphone.\n",
      "O total de vendas de ipad foi de 1350 unidades.\n",
      "O total de vendas de iphone foi de 1710 unidades.\n"
     ]
    }
   ],
   "source": [
    "print(vendedores)\n",
    "print(produtos)\n",
    "print(vendas)\n",
    "\n",
    "vendas_juliane_ipad = vendas[1][0]\n",
    "print('{} vendeu {} {}.'.format(vendedores[1], vendas_juliane_ipad, produtos[0]))\n",
    "\n",
    "vendas_vinicius_iphone = vendas[0][1]\n",
    "print('Vinícius vendeu {} {}.'.format(vendas_vinicius_iphone, produtos[1]))\n",
    "\n",
    "vendas_cida_iphone = vendas[2][1]\n",
    "print('Cida vendeu {} {}.'.format(vendas_cida_iphone, produtos[1]))\n",
    "\n",
    "vendas_ipad = vendas[0][0] + vendas[1][0] + vendas[2][0] + vendas[3][0]\n",
    "vendas_iphone = vendas[0][1] + vendas[1][1] + vendas[2][1] + vendas[3][1]\n",
    "print('O total de vendas de {} foi de {} unidades.'.format(produtos[0], vendas_ipad))\n",
    "print('O total de vendas de {} foi de {} unidades.'.format(produtos[1], vendas_iphone))"
   ]
  },
  {
   "cell_type": "markdown",
   "metadata": {},
   "source": [
    "- E se Vinícius, na verdade, fez apenas 50 vendas de IPhone, como eu modifico na minha lista o valor de vendas dele?"
   ]
  },
  {
   "cell_type": "code",
   "execution_count": 56,
   "metadata": {},
   "outputs": [
    {
     "name": "stdout",
     "output_type": "stream",
     "text": [
      "[[100, 50], [300, 500], [50, 1000], [900, 10]]\n"
     ]
    }
   ],
   "source": [
    "vendas[0][1] = 50\n",
    "print(vendas)\n"
   ]
  },
  {
   "cell_type": "markdown",
   "metadata": {},
   "source": [
    "- E se agora eu tenho um novo produto 'mac', como eu adiciono as vendas em cada um dos vendedores?"
   ]
  },
  {
   "cell_type": "code",
   "execution_count": 33,
   "metadata": {},
   "outputs": [
    {
     "name": "stdout",
     "output_type": "stream",
     "text": [
      "['ipad', 'iphone', 'mac']\n"
     ]
    },
    {
     "ename": "TypeError",
     "evalue": "list indices must be integers or slices, not list",
     "output_type": "error",
     "traceback": [
      "\u001b[1;31m---------------------------------------------------------------------------\u001b[0m",
      "\u001b[1;31mTypeError\u001b[0m                                 Traceback (most recent call last)",
      "\u001b[1;32mc:\\Users\\coelh\\Pessoal\\TI\\CURSOS\\Hashtag\\PythonCompleto\\Aulas\\Python_Codes\\Modulo_8\\Listas 12.ipynb Cell 8\u001b[0m line \u001b[0;36m4\n\u001b[0;32m      <a href='vscode-notebook-cell:/c%3A/Users/coelh/Pessoal/TI/CURSOS/Hashtag/PythonCompleto/Aulas/Python_Codes/Modulo_8/Listas%2012.ipynb#X10sZmlsZQ%3D%3D?line=0'>1</a>\u001b[0m produtos\u001b[39m.\u001b[39mappend(\u001b[39m'\u001b[39m\u001b[39mmac\u001b[39m\u001b[39m'\u001b[39m)\n\u001b[0;32m      <a href='vscode-notebook-cell:/c%3A/Users/coelh/Pessoal/TI/CURSOS/Hashtag/PythonCompleto/Aulas/Python_Codes/Modulo_8/Listas%2012.ipynb#X10sZmlsZQ%3D%3D?line=1'>2</a>\u001b[0m \u001b[39mprint\u001b[39m(produtos)\n\u001b[1;32m----> <a href='vscode-notebook-cell:/c%3A/Users/coelh/Pessoal/TI/CURSOS/Hashtag/PythonCompleto/Aulas/Python_Codes/Modulo_8/Listas%2012.ipynb#X10sZmlsZQ%3D%3D?line=3'>4</a>\u001b[0m vendas[[]]\u001b[39m.\u001b[39mappend(\u001b[39m100\u001b[39m)\n\u001b[0;32m      <a href='vscode-notebook-cell:/c%3A/Users/coelh/Pessoal/TI/CURSOS/Hashtag/PythonCompleto/Aulas/Python_Codes/Modulo_8/Listas%2012.ipynb#X10sZmlsZQ%3D%3D?line=4'>5</a>\u001b[0m \u001b[39mprint\u001b[39m(vendas)\n",
      "\u001b[1;31mTypeError\u001b[0m: list indices must be integers or slices, not list"
     ]
    }
   ],
   "source": [
    "produtos.append('mac')\n",
    "print(produtos)\n",
    "\n",
    "vendas_mac = [10, 15, 6, 70]\n",
    "\n",
    "vendas[0].append(vendas_mac[0])\n",
    "vendas[1].append(vendas_mac[1])\n",
    "vendas[2].append(vendas_mac[2])\n",
    "vendas[3].append(vendas_mac[3])"
   ]
  }
 ],
 "metadata": {
  "kernelspec": {
   "display_name": "Python 3",
   "language": "python",
   "name": "python3"
  },
  "language_info": {
   "codemirror_mode": {
    "name": "ipython",
    "version": 3
   },
   "file_extension": ".py",
   "mimetype": "text/x-python",
   "name": "python",
   "nbconvert_exporter": "python",
   "pygments_lexer": "ipython3",
   "version": "3.11.5"
  }
 },
 "nbformat": 4,
 "nbformat_minor": 4
}
