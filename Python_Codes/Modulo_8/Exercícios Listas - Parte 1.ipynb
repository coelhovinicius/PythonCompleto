{
 "cells": [
  {
   "cell_type": "markdown",
   "metadata": {},
   "source": [
    "# Exercícios\n",
    "\n",
    "## 1. Faturamento do Melhor e do Pior Mês do Ano\n",
    "\n",
    "Qual foi o valor de vendas do melhor mês do Ano?\n",
    "E valor do pior mês do ano?"
   ]
  },
  {
   "cell_type": "code",
   "execution_count": 123,
   "metadata": {},
   "outputs": [
    {
     "name": "stdout",
     "output_type": "stream",
     "text": [
      "['jan', 'fev', 'mar', 'abr', 'mai', 'jun', 'jul', 'ago', 'set', 'out', 'nov', 'dez']\n",
      "[25000, 29000, 22200, 17750, 15870, 19900, 19850, 20120, 17540, 15555, 49051, 9650]\n",
      "Valor total das vendas do melhor mês do ano: $49051.00\n",
      "Valor total das vendas do pior mês do ano: $9650.00\n"
     ]
    }
   ],
   "source": [
    "meses = ['jan', 'fev', 'mar', 'abr', 'mai', 'jun', 'jul', 'ago', 'set', 'out', 'nov', 'dez']\n",
    "vendas_1sem = [25000, 29000, 22200, 17750, 15870, 19900]\n",
    "vendas_2sem = [19850, 20120, 17540, 15555, 49051, 9650]\n",
    "print(meses)\n",
    "\n",
    "vendas_anual = vendas_1sem + vendas_2sem\n",
    "print(vendas_anual)\n",
    "\n",
    "'''\n",
    "vendas_1sem.extend(vendas_2sem)\n",
    "print(vendas_1sem)'''\n",
    "\n",
    "maior_venda = max(vendas_anual)\n",
    "menor_venda = min(vendas_anual)\n",
    "print('Valor total das vendas do melhor mês do ano: ${:.2f}'.format(maior_venda))\n",
    "print('Valor total das vendas do pior mês do ano: ${:.2f}'.format(menor_venda))"
   ]
  },
  {
   "cell_type": "markdown",
   "metadata": {},
   "source": [
    "## 2. Continuação\n",
    "\n",
    "Agora relacione as duas listas para printar 'O melhor mês do ano foi {} com {} vendas' e o mesmo para o pior mês do ano.\n",
    "\n",
    "Calcule também o faturamento total do Ano e quanto que o melhor mês representou do faturamento total.\n",
    "\n",
    "Obs: Para o faturamento total, pode usar a função sum(lista) que soma todos os itens de uma lista"
   ]
  },
  {
   "cell_type": "code",
   "execution_count": 124,
   "metadata": {},
   "outputs": [
    {
     "name": "stdout",
     "output_type": "stream",
     "text": [
      "10\n",
      "11\n",
      "nov\n",
      "dez\n",
      "O melhor mês do ano foi nov, com vendas ao valor de $49,051.00\n",
      "O pior mês do ano foi dez, com vendas ao valor de $9,650.00\n",
      "Faturamento total anual: $261,486.00\n",
      "O melhor mês representou 18.76% do valor total de vendas.\n",
      "O pior mês representou 3.69% do valor total de vendas.\n"
     ]
    }
   ],
   "source": [
    "i_maior_venda = vendas_anual.index(maior_venda)\n",
    "print(i_maior_venda)\n",
    "\n",
    "i_menor_venda = vendas_anual.index(menor_venda)\n",
    "print(i_menor_venda)\n",
    "\n",
    "melhor_mes = meses[i_maior_venda]\n",
    "print(melhor_mes)\n",
    "\n",
    "pior_mes = meses[i_menor_venda]\n",
    "print(pior_mes)\n",
    "\n",
    "print('O melhor mês do ano foi {}, com vendas ao valor de ${:,.2f}'.format(melhor_mes, maior_venda))\n",
    "print('O pior mês do ano foi {}, com vendas ao valor de ${:,.2f}'.format(pior_mes, menor_venda))\n",
    "\n",
    "vendas_anual_total = sum(vendas_anual)\n",
    "print('Faturamento total anual: ${:,.2f}'.format(vendas_anual_total))\n",
    "print('O melhor mês representou {:.2%} do valor total de vendas.'.format(maior_venda / vendas_anual_total))\n",
    "print('O pior mês representou {:.2%} do valor total de vendas.'.format(menor_venda / vendas_anual_total))\n",
    "\n"
   ]
  },
  {
   "cell_type": "markdown",
   "metadata": {},
   "source": [
    "## 3. Crie uma lista com o top 3 valores de vendas do ano (sem fazer \"no olho\")\n",
    "\n",
    "Dica: o método remove retira um item da lista."
   ]
  },
  {
   "cell_type": "code",
   "execution_count": 127,
   "metadata": {},
   "outputs": [
    {
     "name": "stdout",
     "output_type": "stream",
     "text": [
      "[25000, 29000, 22200, 17750, 15870, 19900, 19850, 20120, 17540, 15555, 49051, 9650]\n",
      "[49051, 29000, 25000]\n"
     ]
    }
   ],
   "source": [
    "'''\n",
    "top3 = []\n",
    "\n",
    "print(vendas_anual)\n",
    "maior_venda = max(vendas_anual)\n",
    "top3.append(maior_venda)\n",
    "\n",
    "vendas_anual.remove(maior_venda)\n",
    "\n",
    "maior_venda = max(vendas_anual)\n",
    "top3.append(maior_venda)\n",
    "vendas_anual.remove(maior_venda)\n",
    "maior_venda = max(vendas_anual)\n",
    "top3.append(maior_venda)\n",
    "print(top3)\n",
    "'''\n",
    "\n",
    "print(vendas_anual)\n",
    "\n",
    "top3 = vendas_anual[:]\n",
    "top3.sort(reverse=True)\n",
    "print(top3[0:3])\n"
   ]
  }
 ],
 "metadata": {
  "kernelspec": {
   "display_name": "Python 3",
   "language": "python",
   "name": "python3"
  },
  "language_info": {
   "codemirror_mode": {
    "name": "ipython",
    "version": 3
   },
   "file_extension": ".py",
   "mimetype": "text/x-python",
   "name": "python",
   "nbconvert_exporter": "python",
   "pygments_lexer": "ipython3",
   "version": "3.11.5"
  }
 },
 "nbformat": 4,
 "nbformat_minor": 4
}
