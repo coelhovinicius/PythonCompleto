{
 "cells": [
  {
   "cell_type": "markdown",
   "metadata": {},
   "source": [
    "# Como descobrir o índice de um item de uma lista?\n",
    "\n",
    "i = lista.index('item')"
   ]
  },
  {
   "cell_type": "markdown",
   "metadata": {},
   "source": [
    "Exemplo:\n",
    "\n",
    "Digamos que você puxou do Banco de Dados da sua empresa uma lista com todos os produtos que a empresa vende e a quantidade em estoque de todos eles."
   ]
  },
  {
   "cell_type": "code",
   "execution_count": 25,
   "metadata": {},
   "outputs": [
    {
     "name": "stdout",
     "output_type": "stream",
     "text": [
      "['tv', 'celular', 'tablet', 'mouse', 'teclado', 'geladeira', 'forno']\n",
      "[100, 150, 100, 120, 70, 180, 80]\n"
     ]
    }
   ],
   "source": [
    "produtos = ['tv', 'celular', 'tablet', 'mouse', 'teclado', 'geladeira', 'forno']\n",
    "estoque = [100, 150, 100, 120, 70, 180, 80]\n",
    "\n",
    "print(produtos)\n",
    "print(estoque)"
   ]
  },
  {
   "cell_type": "markdown",
   "metadata": {},
   "source": [
    "Nesse caso a lista é \"pequena\" para fins didáticos, mas essa lista poderia ter dezenas de milhares de produtos diferentes.\n",
    "\n",
    "E agora, como eu faço para descobrir a quantidade em estoque do produto geladeira?"
   ]
  },
  {
   "cell_type": "code",
   "execution_count": 1,
   "metadata": {},
   "outputs": [
    {
     "name": "stdout",
     "output_type": "stream",
     "text": [
      "Número de índice: 5.\n",
      "Produto: geladeira.\n",
      "Estoque de geladeira: 560 unidades.\n",
      "Quantidade de geladeira: 560 unidades.\n"
     ]
    },
    {
     "data": {
      "text/plain": [
       "\"\\nprodutos1 = produtos[0].upper()\\nif 'geladeira' in produtos:\\n    print('Geladeira')\\nelse:\\n    print('Não há')\\n\\nprint(produtos1)\\n\""
      ]
     },
     "execution_count": 1,
     "metadata": {},
     "output_type": "execute_result"
    }
   ],
   "source": [
    "produtos = ['tv', 'celular', 'tablet', 'mouse', 'teclado', 'geladeira', 'forno']\n",
    "estoque = [321, 657, 301, 654, 324, 560, 109]\n",
    "\n",
    "i = produtos.index('geladeira')\n",
    "print('Número de índice: {}.'.format(i))\n",
    "print('Produto: {}.'.format(produtos[i]))\n",
    "print('Estoque de {}: {} unidades.'.format(produtos[i], estoque[i]))\n",
    "\n",
    "qtde_estoque = estoque[i]\n",
    "print('Quantidade de {}: {} unidades.'.format(produtos[i], qtde_estoque))\n",
    "\n",
    "'''\n",
    "produtos1 = produtos[0].upper()\n",
    "if 'geladeira' in produtos:\n",
    "    print('Geladeira')\n",
    "else:\n",
    "    print('Não há')\n",
    "\n",
    "print(produtos1)\n",
    "'''"
   ]
  },
  {
   "cell_type": "markdown",
   "metadata": {},
   "source": [
    "Crie um programa para fazer uma consulta de estoque. O usuário do programa deve inserir o nome do produto e, caso ele não exista na lista, ele deve ser avisado. Caso exista, o programa deve dizer a quantidade de unidades em estoque do produto"
   ]
  },
  {
   "cell_type": "code",
   "execution_count": 9,
   "metadata": {},
   "outputs": [
    {
     "name": "stdout",
     "output_type": "stream",
     "text": [
      "Produto: Secadora.\n",
      "Índice: 8.\n",
      "Estoque: 241 unidades.\n"
     ]
    }
   ],
   "source": [
    "# Listas\n",
    "produtos = ['tv', 'celular', 'tablet', 'mouse', 'teclado', 'geladeira', 'forno', 'lavadora', 'secadora']\n",
    "estoque = [321, 657, 301, 654, 324, 560, 109, 307, 241]\n",
    "\n",
    "produto = input('Insira o nome do produto: ')\n",
    "produto = produto.casefold() # Ajuste do input para que fique em minúsculas\n",
    "\n",
    "if produto:\n",
    "    if produto in produtos: # Se o produto existir na lista \"produtos\"\n",
    "        i = produtos.index(produto) # Variável \"i\" que recebe o número correspondente ao índice do input\n",
    "        print('Produto: {}.'.format(produto.title())) # Primeiras letras em maiúsculas\n",
    "        print('Índice: {}.'.format(i)) # Exibe o número do índice do input\n",
    "        print('Estoque: {} unidades.'.format(estoque[i]))\n",
    "\n",
    "    else:\n",
    "        print('O produto {} não existe em estoque.'.format(produto.title()))\n",
    "\n",
    "else:\n",
    "    print('Digite o produto corretamente.')"
   ]
  }
 ],
 "metadata": {
  "kernelspec": {
   "display_name": "Python 3",
   "language": "python",
   "name": "python3"
  },
  "language_info": {
   "codemirror_mode": {
    "name": "ipython",
    "version": 3
   },
   "file_extension": ".py",
   "mimetype": "text/x-python",
   "name": "python",
   "nbconvert_exporter": "python",
   "pygments_lexer": "ipython3",
   "version": "3.11.5"
  }
 },
 "nbformat": 4,
 "nbformat_minor": 4
}
