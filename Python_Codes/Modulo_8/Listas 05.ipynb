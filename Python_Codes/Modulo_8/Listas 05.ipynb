{
 "cells": [
  {
   "cell_type": "markdown",
   "metadata": {},
   "source": [
    "# Algumas Funções Básicas de Lista\n",
    "\n",
    "## Tamanho da Lista\n",
    "\n",
    "tamanho = len(lista)"
   ]
  },
  {
   "cell_type": "code",
   "execution_count": 7,
   "metadata": {},
   "outputs": [
    {
     "name": "stdout",
     "output_type": "stream",
     "text": [
      "['apple tv', 'mac', 'iphone x', 'IPad', 'apple watch', 'mac book', 'airpods']\n"
     ]
    }
   ],
   "source": [
    "produtos = ['apple tv', 'mac', 'iphone x', 'IPad', 'apple watch', 'mac book', 'airpods']\n",
    "print(produtos)"
   ]
  },
  {
   "cell_type": "markdown",
   "metadata": {},
   "source": [
    "- Quantos produtos temos a venda?"
   ]
  },
  {
   "cell_type": "code",
   "execution_count": 9,
   "metadata": {},
   "outputs": [
    {
     "name": "stdout",
     "output_type": "stream",
     "text": [
      "Temos 7 produtos.\n",
      "Temos 7 produtos.\n"
     ]
    }
   ],
   "source": [
    "produtos = ['apple tv', 'mac', 'iphone x', 'IPad', 'apple watch', 'mac book', 'airpods']\n",
    "\n",
    "tamanho = len(produtos)\n",
    "print('Temos {} produtos.'.format(len(produtos)))\n",
    "print('Temos {} produtos.'.format(tamanho))"
   ]
  },
  {
   "cell_type": "markdown",
   "metadata": {},
   "source": [
    "## Maior e Menor Valor\n",
    "\n",
    "maior = max(lista)\n",
    "\n",
    "menor = min(lista)"
   ]
  },
  {
   "cell_type": "code",
   "execution_count": 10,
   "metadata": {},
   "outputs": [],
   "source": [
    "vendas = [1000, 1500, 15000, 270, 900, 100, 1200]"
   ]
  },
  {
   "cell_type": "markdown",
   "metadata": {},
   "source": [
    "- Qual o item mais vendido?\n",
    "- Qual o item menos vendido?"
   ]
  },
  {
   "cell_type": "code",
   "execution_count": 30,
   "metadata": {},
   "outputs": [
    {
     "name": "stdout",
     "output_type": "stream",
     "text": [
      "O produto mais vendido vendeu 15000 unidades. O produto menos vendido vendeu 100 unidades.\n",
      "O produto mais vendido foi o de índice 2. O produto menos vendido foi o de índice 5.\n",
      "O produto mais vendido foi o iphone x.\n",
      "O produto menos vendido foi o mac book.\n"
     ]
    }
   ],
   "source": [
    "produtos = ['apple tv', 'mac', 'iphone x', 'IPad', 'apple watch', 'mac book', 'airpods']\n",
    "vendas = [1000, 1500, 15000, 270, 900, 100, 1200]\n",
    "\n",
    "maximo_vendas = max(vendas)\n",
    "minimo_vendas = min(vendas)\n",
    "print('O produto mais vendido vendeu {} unidades. O produto menos vendido vendeu {} unidades.'.format(maximo_vendas, minimo_vendas))\n",
    "\n",
    "mais_vendido = vendas.index(maximo_vendas)\n",
    "menos_vendido = vendas.index(minimo_vendas)\n",
    "print('O produto mais vendido foi o de índice {}. O produto menos vendido foi o de índice {}.'.format(mais_vendido, menos_vendido))\n",
    "\n",
    "i = vendas.index(maximo_vendas)\n",
    "prod_mais_vendido = produtos[i]\n",
    "print( 'O produto mais vendido foi o {}.'.format(prod_mais_vendido))\n",
    "\n",
    "i = vendas.index(minimo_vendas)\n",
    "prod_menos_vendido = produtos[i]\n",
    "print( 'O produto menos vendido foi o {}.'.format(prod_menos_vendido))"
   ]
  }
 ],
 "metadata": {
  "kernelspec": {
   "display_name": "Python 3",
   "language": "python",
   "name": "python3"
  },
  "language_info": {
   "codemirror_mode": {
    "name": "ipython",
    "version": 3
   },
   "file_extension": ".py",
   "mimetype": "text/x-python",
   "name": "python",
   "nbconvert_exporter": "python",
   "pygments_lexer": "ipython3",
   "version": "3.11.5"
  }
 },
 "nbformat": 4,
 "nbformat_minor": 4
}
