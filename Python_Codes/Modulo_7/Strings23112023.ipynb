{
 "cells": [
  {
   "cell_type": "markdown",
   "id": "2b04bbea",
   "metadata": {},
   "source": [
    "# Strings\n",
    "\n",
    "<span style=\"color: red;\"><b>Todos os exercícios são feitos partindo-se do pressuposto de que todas as entradas são dadas de forma correta. Casos limite não mencionados no enunciado não são abordados porque não fazem parte do exercício.</b></span>"
   ]
  },
  {
   "cell_type": "markdown",
   "id": "5b1f33b9",
   "metadata": {},
   "source": [
    "#### 1. Tamanho de strings. Faça um programa que leia 2 strings e informe o conteúdo delas seguido do seu comprimento. Informe também se as duas strings possuem o mesmo comprimento e são iguais ou diferentes no conteúdo.\n",
    "<pre>\n",
    "Compara duas strings\n",
    "String 1: Brasil Hexa 2006\n",
    "String 2: Brasil! Hexa 2006!\n",
    "Tamanho de \"Brasil Hexa 2006\": 16 caracteres\n",
    "Tamanho de \"Brasil! Hexa 2006!\": 18 caracteres\n",
    "As duas strings são de tamanhos diferentes.\n",
    "As duas strings possuem conteúdo diferente.\n",
    "</pre>"
   ]
  },
  {
   "cell_type": "code",
   "execution_count": 49,
   "id": "c492b657",
   "metadata": {},
   "outputs": [
    {
     "name": "stdout",
     "output_type": "stream",
     "text": [
      "String 1: vinicius\n",
      "String 2: coelho\n",
      "Tamanho de \"vinicius\": 8 caracteres\n",
      "Tamanho de \"coelho\": 6 caracteres\n",
      "As strings têm tamanhos diferentes.\n",
      "As strings possuem conteúdos diferentes.\n"
     ]
    }
   ],
   "source": [
    "string1 = input('Digite uma frase: ')\n",
    "string2 = input('Digite outra frase: ')\n",
    "\n",
    "string1_tamanho = len(string1)\n",
    "string2_tamanho = len(string2)\n",
    "\n",
    "print('String 1: {}'.format(string1))\n",
    "print('String 2: {}'.format(string2))\n",
    "print('Tamanho de \"{}\": {} caracteres.'.format(string1, string1_tamanho))\n",
    "print('Tamanho de \"{}\": {} caracteres.'.format(string2, string2_tamanho))\n",
    "\n",
    "if string1_tamanho == string2_tamanho:\n",
    "    print('As strings têm tamanhos iguais.')\n",
    "else:\n",
    "    print('As strings têm tamanhos diferentes.')\n",
    "\n",
    "if string1 == string2:\n",
    "    print('As strings possuem conteúdos iguais.')\n",
    "else:\n",
    "    print('As strings possuem conteúdos diferentes.')\n"
   ]
  },
  {
   "cell_type": "markdown",
   "id": "c3068a53",
   "metadata": {},
   "source": [
    "#### 2. Valida e corrige número de telefone. Faça um programa que leia um número de telefone, e corrija o número no caso deste conter somente 7 dígitos, acrescentando o '3' na frente. O usuário pode informar o número com ou sem o traço separador.\n",
    "<pre>\n",
    "Valida e corrige número de telefone\n",
    "Telefone: 461-0133\n",
    "Telefone possui 7 dígitos. Vou acrescentar o digito três na frente.\n",
    "Telefone corrigido sem formatação: 34610133\n",
    "Telefone corrigido com formatação: 3461-0133\n",
    "</pre>"
   ]
  },
  {
   "cell_type": "code",
   "execution_count": 1,
   "id": "0308566d",
   "metadata": {},
   "outputs": [
    {
     "name": "stdout",
     "output_type": "stream",
     "text": [
      "Valida e corrige o número de telefone:\n",
      "Telefone: 321654-78\n",
      "Telefone possui 8 dígitos.\n",
      "Telefone sem formatação: 32165478\n",
      "Telefone corrigido com formatação: 3216-5478\n"
     ]
    }
   ],
   "source": [
    "print('Valida e corrige o número de telefone:')\n",
    "#telefone = '8888880'\n",
    "telefone = input('Informe o número de telefone: ')\n",
    "\n",
    "if telefone:\n",
    "    telefone_corrigido = telefone.strip()\n",
    "\n",
    "    if '-' in telefone_corrigido:\n",
    "        telefone_corrigido = telefone_corrigido.replace('-', '')\n",
    "\n",
    "        if telefone_corrigido.isnumeric():\n",
    "        \n",
    "            if len(telefone_corrigido) != 8: # Se não for 8\n",
    "                if len(telefone_corrigido) != 7: # Se não for 8 nem 7\n",
    "                    print('Telefone inválido. Favor tentar novamente.')\n",
    "                else: # Se for 7\n",
    "                    print('Telefone: {}'.format(telefone))\n",
    "                    print('Telefone possui {} dígitos. Vou acrescentar o dígito 3 na frente.'.format(len(telefone_corrigido)))\n",
    "                    telefone_corrigido = '3' + telefone_corrigido\n",
    "                    print('Telefone corrigido sem formatação: {}.'.format(telefone_corrigido))\n",
    "                    print('Telefone corrigido com formatação: {}-{}'.format(telefone_corrigido[:4], telefone_corrigido[-4:]))\n",
    "            \n",
    "            else: # Se for 8\n",
    "                print('Telefone: {}'.format(telefone))\n",
    "                print('Telefone possui {} dígitos.'.format(len(telefone_corrigido)))\n",
    "                print('Telefone sem formatação: {}'.format(telefone_corrigido))\n",
    "                print('Telefone corrigido com formatação: {}-{}'.format(telefone_corrigido[:4], telefone_corrigido[-4:]))\n",
    "        \n",
    "        else: # Se não forem números\n",
    "            print('Favor informar apenas números.')\n",
    "\n",
    "    elif telefone_corrigido.isnumeric():\n",
    "        if len(telefone_corrigido) != 8:\n",
    "            if len(telefone_corrigido) != 7:\n",
    "                print('Telefone inválido. Favor digitar novamente.')\n",
    "            else:\n",
    "                print('Telefone: {}'.format(telefone))\n",
    "                print('Telefone possui {} dígitos. Vou acrescentar o dígito 3 na frente.'.format(len(telefone_corrigido)))\n",
    "                telefone_corrigido = '3' + telefone_corrigido\n",
    "                print('Telefone sem formatação: {}'.format(telefone_corrigido))\n",
    "                print('Telefone corrigido com formatação: {}-{}'.format(telefone_corrigido[:4], telefone_corrigido[-4:]))\n",
    "\n",
    "        else:\n",
    "            print('Telefone: {}'.format(telefone))\n",
    "            print('Telefone possui {} dígitos.'.format(len(telefone_corrigido)))\n",
    "            print('Telefone sem formatação: {}'.format(telefone_corrigido))\n",
    "            print('Telefone corrigido com formatação: {}-{}'.format(telefone_corrigido[:4], telefone_corrigido[-4:]))\n",
    "\n",
    "    else:\n",
    "        print('Digite o telefone corretamente.')\n",
    "\n",
    "else:\n",
    "    print('Favor preencher o campo corretamente.')"
   ]
  }
 ],
 "metadata": {
  "kernelspec": {
   "display_name": "Python 3 (ipykernel)",
   "language": "python",
   "name": "python3"
  },
  "language_info": {
   "codemirror_mode": {
    "name": "ipython",
    "version": 3
   },
   "file_extension": ".py",
   "mimetype": "text/x-python",
   "name": "python",
   "nbconvert_exporter": "python",
   "pygments_lexer": "ipython3",
   "version": "3.11.5"
  }
 },
 "nbformat": 4,
 "nbformat_minor": 5
}
