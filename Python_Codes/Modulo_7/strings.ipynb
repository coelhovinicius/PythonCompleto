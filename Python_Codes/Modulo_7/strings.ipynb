{
 "cells": [
  {
   "cell_type": "markdown",
   "metadata": {},
   "source": [
    "# Strings e Índices\n",
    "\n",
    "##### - As strigs podem conter diversos índices. Por exemplo, a string 'vinicius' contem 8 índices, o 0 ao 7.\n",
    "##### - Os índices são os caracteres que compõem a string."
   ]
  },
  {
   "cell_type": "markdown",
   "metadata": {},
   "source": [
    "### Verificação de comprimento e conteúdo da string partindo da primeira string - [0]"
   ]
  },
  {
   "cell_type": "code",
   "execution_count": 28,
   "metadata": {},
   "outputs": [
    {
     "name": "stdout",
     "output_type": "stream",
     "text": [
      "18\n",
      "v i n i c\n",
      "v\n",
      "i\n",
      "n\n",
      "i\n",
      "c\n",
      "\n",
      "8\n",
      "V i n i c\n",
      "V\n",
      "i\n",
      "n\n",
      "i\n",
      "c\n"
     ]
    }
   ],
   "source": [
    "email = 'vinicius@gmail.com'\n",
    "nome = 'Vinicius'\n",
    "\n",
    "print(len(email))\n",
    "print(email[0], email[1], email[2], email[3], email[4])\n",
    "print(email[0])\n",
    "print(email[1])\n",
    "print(email[2])\n",
    "print(email[3])\n",
    "print(email[4])\n",
    "\n",
    "print()\n",
    "\n",
    "print(len(nome))\n",
    "print(nome[0], nome[1], nome[2], nome[3], nome[4])\n",
    "print(nome[0])\n",
    "print(nome[1])\n",
    "print(nome[2])\n",
    "print(nome[3])\n",
    "print(nome[4])"
   ]
  },
  {
   "cell_type": "markdown",
   "metadata": {},
   "source": [
    "### Verificação de comprimento e conteúdo da string partindo da última string"
   ]
  },
  {
   "cell_type": "code",
   "execution_count": 29,
   "metadata": {},
   "outputs": [
    {
     "name": "stdout",
     "output_type": "stream",
     "text": [
      "Tamanho do e-mail: 18 caracteres.\n",
      "Primeiro caractere do e-mail: v\n",
      "Último caractere do e-mail: m\n",
      "\n",
      "Tamanho do nome: 8 caracteres.\n",
      "Primeiro caractere do nome: V\n",
      "Último caractere do nome: s\n"
     ]
    }
   ],
   "source": [
    "print('Tamanho do e-mail: ' + str(len(email)) + ' caracteres.')\n",
    "print('Primeiro caractere do e-mail: ' + email[0])\n",
    "print('Último caractere do e-mail: ' + email[-1])\n",
    "\n",
    "print()\n",
    "\n",
    "print('Tamanho do nome: ' + str(len(nome)) + ' caracteres.')\n",
    "print('Primeiro caractere do nome: ' + str(nome[0]))\n",
    "print('Último caractere do nome: ' + str(nome[-1]))"
   ]
  },
  {
   "cell_type": "markdown",
   "metadata": {},
   "source": [
    "### Obter trechos de strings"
   ]
  },
  {
   "cell_type": "code",
   "execution_count": 30,
   "metadata": {},
   "outputs": [
    {
     "name": "stdout",
     "output_type": "stream",
     "text": [
      "vinicius\n",
      "vinicius@gmail.co\n",
      "inicius@gmail.com\n",
      "m\n",
      "gmail.com\n",
      "gmail\n",
      "V\n",
      "Viniciu\n",
      "inicius\n",
      "s\n"
     ]
    }
   ],
   "source": [
    "print(email[:8])\n",
    "print(email[:-1])\n",
    "print(email[1:])\n",
    "print(email[-1:])\n",
    "print(email[9:])\n",
    "print(email[9:14])\n",
    "\n",
    "print(nome[:1])\n",
    "print(nome[:-1])\n",
    "print(nome[1:])\n",
    "print(nome[-1:])"
   ]
  }
 ],
 "metadata": {
  "kernelspec": {
   "display_name": "Python 3",
   "language": "python",
   "name": "python3"
  },
  "language_info": {
   "codemirror_mode": {
    "name": "ipython",
    "version": 3
   },
   "file_extension": ".py",
   "mimetype": "text/x-python",
   "name": "python",
   "nbconvert_exporter": "python",
   "pygments_lexer": "ipython3",
   "version": "3.11.5"
  }
 },
 "nbformat": 4,
 "nbformat_minor": 2
}
