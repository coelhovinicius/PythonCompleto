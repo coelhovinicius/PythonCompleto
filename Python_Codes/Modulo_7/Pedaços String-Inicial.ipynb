{
 "cells": [
  {
   "cell_type": "markdown",
   "id": "4e5fa91b",
   "metadata": {},
   "source": [
    "### Forma Básica"
   ]
  },
  {
   "cell_type": "code",
   "execution_count": 28,
   "id": "fba45682",
   "metadata": {},
   "outputs": [
    {
     "name": "stdout",
     "output_type": "stream",
     "text": [
      "Jan: 25\n",
      "25\n",
      "Jan\n",
      "Fev: 27\n",
      "27\n",
      "Fev\n",
      "Mar: 29\n",
      "29\n",
      "Mar\n"
     ]
    }
   ],
   "source": [
    "precos = \"Jan: 25, Fev: 27, Mar: 29\"\n",
    "\n",
    "preco_jan = precos[0:7]\n",
    "print(preco_jan)\n",
    "\n",
    "preco_jan = precos[5:7]\n",
    "print(preco_jan)\n",
    "\n",
    "preco_jan = precos[:3]\n",
    "print(preco_jan)\n",
    "\n",
    "preco_fev = precos[9:16]\n",
    "print(preco_fev)\n",
    "\n",
    "preco_fev = precos[14:16]\n",
    "print(preco_fev)\n",
    "\n",
    "preco_fev = precos[9:12]\n",
    "print(preco_fev)\n",
    "\n",
    "preco_mar = precos[18:25]\n",
    "print(preco_mar)\n",
    "\n",
    "preco_mar = precos[23:25]\n",
    "print(preco_mar)\n",
    "\n",
    "preco_mar = precos[18:21]\n",
    "print(preco_mar)"
   ]
  },
  {
   "cell_type": "markdown",
   "id": "afe5dc17",
   "metadata": {},
   "source": [
    "### Posição Inicial e Final"
   ]
  },
  {
   "cell_type": "code",
   "execution_count": 29,
   "id": "c3488405",
   "metadata": {},
   "outputs": [
    {
     "name": "stdout",
     "output_type": "stream",
     "text": [
      "Jan: 25\n",
      "Fev: 27\n",
      "Mar: 29\n"
     ]
    }
   ],
   "source": [
    "preco_jan = precos[-25:-18]\n",
    "print(preco_jan)\n",
    "\n",
    "preco_fev = precos[-16:-9]\n",
    "print(preco_fev)\n",
    "\n",
    "preco_mar = precos[-7:]\n",
    "print(preco_mar)"
   ]
  },
  {
   "cell_type": "markdown",
   "id": "bca6dfd4",
   "metadata": {},
   "source": [
    "### Posição Inicial e Final com Step"
   ]
  },
  {
   "cell_type": "code",
   "execution_count": 34,
   "id": "981224c2",
   "metadata": {},
   "outputs": [
    {
     "name": "stdout",
     "output_type": "stream",
     "text": [
      "12345123479\n",
      "9.7,4.3.2,1,5,4.3.2.1\n",
      "97432154321\n",
      "2345\n",
      "1543\n"
     ]
    }
   ],
   "source": [
    "cod = \"1.2.3.4,5,1,2.3.4,7.9\"\n",
    "\n",
    "trecho_cod = cod[::2]\n",
    "print(trecho_cod)\n",
    "\n",
    "trecho_cod = cod[::-1]\n",
    "print(trecho_cod)\n",
    "\n",
    "trecho_cod = cod[::-2]\n",
    "print(trecho_cod)\n",
    "\n",
    "trecho_cod = cod[2:10:2]\n",
    "print(trecho_cod)\n",
    "\n",
    "trecho_cod = cod[10:2:-2]\n",
    "print(trecho_cod)"
   ]
  },
  {
   "cell_type": "code",
   "execution_count": null,
   "id": "e134a9b3",
   "metadata": {},
   "outputs": [],
   "source": []
  }
 ],
 "metadata": {
  "kernelspec": {
   "display_name": "Python 3 (ipykernel)",
   "language": "python",
   "name": "python3"
  },
  "language_info": {
   "codemirror_mode": {
    "name": "ipython",
    "version": 3
   },
   "file_extension": ".py",
   "mimetype": "text/x-python",
   "name": "python",
   "nbconvert_exporter": "python",
   "pygments_lexer": "ipython3",
   "version": "3.11.5"
  }
 },
 "nbformat": 4,
 "nbformat_minor": 5
}
