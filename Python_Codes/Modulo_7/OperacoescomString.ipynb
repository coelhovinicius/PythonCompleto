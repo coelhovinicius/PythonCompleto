{
 "cells": [
  {
   "cell_type": "markdown",
   "metadata": {},
   "source": [
    "# Operações com String\n",
    "\n",
    "str -> transforma número em string<br>\n",
    "in -> verifica se um texto está contido dentro do outro<br>\n",
    "operador + -> concatenar string<br>\n",
    "format e {} -> substitui valores<br>\n",
    "%s -> substitui textos<br>\n",
    "%d -> substitui números decimais<br>\n",
    "\n",
    "Vamos deixar uma cartilha para download"
   ]
  },
  {
   "cell_type": "code",
   "execution_count": 1,
   "metadata": {},
   "outputs": [
    {
     "name": "stdout",
     "output_type": "stream",
     "text": [
      "Faturamento: R$1000\n",
      "Custo: R$500\n",
      "Lucro: R$500\n"
     ]
    }
   ],
   "source": [
    "faturamento = 1000\n",
    "custo = 500\n",
    "lucro = faturamento - custo\n",
    "\n",
    "print(f'Faturamento: R${faturamento}')\n",
    "print(f'Custo: R${custo}')\n",
    "print(f'Lucro: R${lucro}')"
   ]
  },
  {
   "cell_type": "markdown",
   "metadata": {},
   "source": [
    "Uso do str() e do concatenar com +"
   ]
  },
  {
   "cell_type": "code",
   "execution_count": 2,
   "metadata": {},
   "outputs": [
    {
     "name": "stdout",
     "output_type": "stream",
     "text": [
      "O faturamento da loja foi de: R$1000\n"
     ]
    }
   ],
   "source": [
    "print ('O faturamento da loja foi de: R$' + str(faturamento))"
   ]
  },
  {
   "cell_type": "markdown",
   "metadata": {},
   "source": [
    "Uso do Format"
   ]
  },
  {
   "cell_type": "code",
   "execution_count": 3,
   "metadata": {},
   "outputs": [
    {
     "name": "stdout",
     "output_type": "stream",
     "text": [
      "O faturamento foi de: R$5000.00\n",
      "O faturamento foi de R$5000.00. O custo foi de R$2000.00. O lucro foi de R$3000.00. Lembrando: o faturamento foi de R$5000.00\n"
     ]
    }
   ],
   "source": [
    "faturamento = 5000\n",
    "custos = 2000\n",
    "lucro = faturamento - custos\n",
    "\n",
    "print('O faturamento foi de: R${0:.2f}'.format(faturamento))\n",
    "\n",
    "# Uso do format definindo índices para cada variável\n",
    "print('O faturamento foi de R${0:.2f}. O custo foi de R${1:.2f}. O lucro foi de R${2:.2f}. Lembrando: o faturamento foi de R${0:.2f}'.format(faturamento, custos, lucro))"
   ]
  },
  {
   "cell_type": "code",
   "execution_count": 4,
   "metadata": {},
   "outputs": [
    {
     "name": "stdout",
     "output_type": "stream",
     "text": [
      "O faturamento foi de: R$5000. O custo foi de R$500. O lucro foi de R$3000.\n",
      "O texto 1 é: Texto qualquer 1. O texto 2 é: Texto qualquer 2. O texto 3 é: Texto qualquer 3\n"
     ]
    }
   ],
   "source": [
    "texto1 = 'Texto qualquer 1'\n",
    "texto2 = 'Texto qualquer 2'\n",
    "texto3 = 'Texto qualquer 3'\n",
    "\n",
    "print ('O faturamento foi de: R$%d. O custo foi de R$%d. O lucro foi de R$%d.' % (faturamento, custo, lucro))\n",
    "print ('O texto 1 é: %s. O texto 2 é: %s. O texto 3 é: %s' % (texto1, texto2, texto3))"
   ]
  },
  {
   "cell_type": "markdown",
   "metadata": {},
   "source": [
    "Uso do in (mais exercícios práticos nas próximas aulas)"
   ]
  },
  {
   "cell_type": "code",
   "execution_count": 5,
   "metadata": {},
   "outputs": [
    {
     "name": "stdout",
     "output_type": "stream",
     "text": [
      "True\n",
      "False\n"
     ]
    }
   ],
   "source": [
    "print('@' in 'lira@gmail.com')\n",
    "print('@' in 'lira.gmail.com')"
   ]
  }
 ],
 "metadata": {
  "kernelspec": {
   "display_name": "Python 3",
   "language": "python",
   "name": "python3"
  },
  "language_info": {
   "codemirror_mode": {
    "name": "ipython",
    "version": 3
   },
   "file_extension": ".py",
   "mimetype": "text/x-python",
   "name": "python",
   "nbconvert_exporter": "python",
   "pygments_lexer": "ipython3",
   "version": "3.11.5"
  }
 },
 "nbformat": 4,
 "nbformat_minor": 4
}
