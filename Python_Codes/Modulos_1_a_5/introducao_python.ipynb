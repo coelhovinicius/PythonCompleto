{
 "cells": [
  {
   "cell_type": "markdown",
   "id": "e1d06a01",
   "metadata": {},
   "source": [
    "Iniciando com Python"
   ]
  },
  {
   "cell_type": "code",
   "execution_count": 1,
   "id": "dda4f5ca",
   "metadata": {},
   "outputs": [
    {
     "name": "stdout",
     "output_type": "stream",
     "text": [
      "5\n"
     ]
    }
   ],
   "source": [
    "print(2 + 3)"
   ]
  },
  {
   "cell_type": "code",
   "execution_count": 2,
   "id": "c4214ed7",
   "metadata": {},
   "outputs": [
    {
     "name": "stdout",
     "output_type": "stream",
     "text": [
      "71.66666666666666\n"
     ]
    }
   ],
   "source": [
    "print(5 + 2 / 3 * 100)"
   ]
  },
  {
   "cell_type": "code",
   "execution_count": 3,
   "id": "e003d8d5",
   "metadata": {},
   "outputs": [
    {
     "name": "stdout",
     "output_type": "stream",
     "text": [
      "15\n"
     ]
    }
   ],
   "source": [
    "a = 5\n",
    "b = 10\n",
    "print (a + b)"
   ]
  },
  {
   "cell_type": "code",
   "execution_count": 4,
   "id": "b1ce9060",
   "metadata": {},
   "outputs": [
    {
     "name": "stdout",
     "output_type": "stream",
     "text": [
      "True\n",
      "False\n"
     ]
    }
   ],
   "source": [
    "print ('i' in 'Vinicius') # Case Sensitive: Verifica se há a letra 'i' em 'Vinicius' e retorna True ou False\n",
    "print ('f' in 'Vinicius')"
   ]
  },
  {
   "cell_type": "code",
   "execution_count": 5,
   "id": "78f0c106",
   "metadata": {},
   "outputs": [
    {
     "name": "stdout",
     "output_type": "stream",
     "text": [
      "Vinicius Coelho Bemfica\n",
      "125.0\n"
     ]
    }
   ],
   "source": [
    "nome_usuario = \"Vinicius Coelho Bemfica\"\n",
    "qtde_vendas = 10000\n",
    "valor_total_vendas = 1250000\n",
    "valor_medio_vendas = valor_total_vendas / qtde_vendas\n",
    "print(nome_usuario)\n",
    "print(valor_medio_vendas)"
   ]
  },
  {
   "cell_type": "code",
   "execution_count": 6,
   "id": "00d42047",
   "metadata": {},
   "outputs": [
    {
     "name": "stdout",
     "output_type": "stream",
     "text": [
      "Usuário: Vinícius Coelho Bemfica\n",
      "Quantidade de Vendas: 1654657\n",
      "Valor Total: 1356577465\n"
     ]
    }
   ],
   "source": [
    "nome_do_usuario = input ('Insira o nome do usuário:')\n",
    "qtde_de_vendas = input('Insira a quantidade de vendas:')\n",
    "valor_total_de_vendas = input('Insira o valor total das vendas:')\n",
    "print('Usuário: ' + nome_do_usuario)\n",
    "print('Quantidade de Vendas: ' + qtde_de_vendas)\n",
    "print('Valor Total: ' + valor_total_de_vendas)"
   ]
  },
  {
   "cell_type": "code",
   "execution_count": 7,
   "id": "188803cc",
   "metadata": {},
   "outputs": [
    {
     "name": "stdout",
     "output_type": "stream",
     "text": [
      "Nome completo: Vinícius Bemfica\n"
     ]
    }
   ],
   "source": [
    "nome_cliente = input('Primeiro nome: ')\n",
    "sobrenome_cliente = input('Sobrenome: ')\n",
    "print ('Nome completo: ' + nome_cliente + ' ' + sobrenome_cliente)"
   ]
  },
  {
   "cell_type": "code",
   "execution_count": 8,
   "id": "f869fa04",
   "metadata": {},
   "outputs": [
    {
     "data": {
      "text/plain": [
       "int"
      ]
     },
     "execution_count": 8,
     "metadata": {},
     "output_type": "execute_result"
    }
   ],
   "source": [
    "tipo_de_variavel = 1000\n",
    "type (tipo_de_variavel)\n",
    "#print(type (tipo_de_variavel))"
   ]
  },
  {
   "cell_type": "code",
   "execution_count": 9,
   "id": "41c1ee49",
   "metadata": {},
   "outputs": [
    {
     "data": {
      "text/plain": [
       "float"
      ]
     },
     "execution_count": 9,
     "metadata": {},
     "output_type": "execute_result"
    }
   ],
   "source": [
    "tipo_de_variavel = 1000.00\n",
    "type (tipo_de_variavel)"
   ]
  },
  {
   "cell_type": "code",
   "execution_count": 10,
   "id": "0cf30447",
   "metadata": {},
   "outputs": [
    {
     "data": {
      "text/plain": [
       "str"
      ]
     },
     "execution_count": 10,
     "metadata": {},
     "output_type": "execute_result"
    }
   ],
   "source": [
    "tipo_de_variavel = '1000.00'\n",
    "type (tipo_de_variavel)"
   ]
  },
  {
   "cell_type": "code",
   "execution_count": 11,
   "id": "0d6db19e",
   "metadata": {},
   "outputs": [
    {
     "data": {
      "text/plain": [
       "bool"
      ]
     },
     "execution_count": 11,
     "metadata": {},
     "output_type": "execute_result"
    }
   ],
   "source": [
    "tipo_de_variavel = True\n",
    "type (tipo_de_variavel)"
   ]
  }
 ],
 "metadata": {
  "kernelspec": {
   "display_name": "Python 3 (ipykernel)",
   "language": "python",
   "name": "python3"
  },
  "language_info": {
   "codemirror_mode": {
    "name": "ipython",
    "version": 3
   },
   "file_extension": ".py",
   "mimetype": "text/x-python",
   "name": "python",
   "nbconvert_exporter": "python",
   "pygments_lexer": "ipython3",
   "version": "3.11.5"
  }
 },
 "nbformat": 4,
 "nbformat_minor": 5
}
