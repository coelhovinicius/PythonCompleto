{
 "cells": [
  {
   "cell_type": "markdown",
   "metadata": {},
   "source": [
    "# Exercícios\n",
    "\n",
    "São exercícios bem parecidos com os que fizemos com listas. Mas na tupla, podemos não só trabalhar com índices, mas fazer o \"unpacking\" das tuplas, o que pode facilitar nossos códigos.\n",
    "\n",
    "## 1. Análise de Vendas\n",
    "\n",
    "Nesse exercício vamos fazer uma \"análise simples\" de atingimento de Meta.\n",
    "\n",
    "Temos uma lista com os vendedores e os valores de vendas e queremos identificar (printar) quais os vendedores que bateram a meta e qual foi o valor que eles venderam."
   ]
  },
  {
   "cell_type": "code",
   "execution_count": 5,
   "metadata": {},
   "outputs": [],
   "source": [
    "meta = 10000\n",
    "vendas = [\n",
    "    ('Vinícius', 15000),\n",
    "    ('Juliane', 27000),\n",
    "    ('Cida', 9900),\n",
    "    ('Maria', 3750),\n",
    "    ('Ana', 10300),\n",
    "    ('Alan', 7870),\n",
    "]"
   ]
  },
  {
   "cell_type": "code",
   "execution_count": 6,
   "metadata": {},
   "outputs": [
    {
     "name": "stdout",
     "output_type": "stream",
     "text": [
      "Vinícius alcançou a meta, vendendo 15000 unidades.\n",
      "Juliane alcançou a meta, vendendo 27000 unidades.\n",
      "Ana alcançou a meta, vendendo 10300 unidades.\n"
     ]
    }
   ],
   "source": [
    "for vendedor, qtde_vendida in vendas:\n",
    "    if qtde_vendida >= meta:\n",
    "        print('{} alcançou a meta, vendendo {} unidades.'.format(vendedor, qtde_vendida))"
   ]
  },
  {
   "cell_type": "markdown",
   "metadata": {},
   "source": [
    "## 2. Comparação com Ano Anterior\n",
    "\n",
    "Digamos que você está analisando as vendas de produtos de um ecommerce e quer identificar quais produtos tiveram no ano de 2020 mais vendas do que no ano de 2019, para reportar isso para a diretoria.\n",
    "\n",
    "Sua resposta pode ser um print de cada produto, qual foi a venda de 2022, a venda de 2023 e o % de crescimento de 2023 para 2019.\n",
    "\n",
    "Lembrando, para calcular o % de crescimento de um produto de um ano para o outro, podemos fazer: (vendas_produto2020/vendas_produto2019 - 1)\n",
    "\n",
    "A lógica da tupla é: (produto, vendas2019, vendas2020)"
   ]
  },
  {
   "cell_type": "code",
   "execution_count": 8,
   "metadata": {},
   "outputs": [
    {
     "name": "stdout",
     "output_type": "stream",
     "text": [
      "Iphone teve 558147 vendas em 2022 e 951642 vendas em 2023, com um crescimento de 70.5%.\n",
      "Tv teve 405252 vendas em 2022 e 787604 vendas em 2023, com um crescimento de 94.3%.\n",
      "Máquina de café teve 718654 vendas em 2022 e 867660 vendas em 2023, com um crescimento de 20.7%.\n",
      "Notebook dell teve 422760 vendas em 2022 e 694913 vendas em 2023, com um crescimento de 64.4%.\n",
      "Notebook hp teve 154753 vendas em 2022 e 539704 vendas em 2023, com um crescimento de 248.8%.\n",
      "Microsoft surface teve 438508 vendas em 2022 e 667179 vendas em 2023, com um crescimento de 52.1%.\n",
      "Webcam teve 237467 vendas em 2022 e 295633 vendas em 2023, com um crescimento de 24.5%.\n",
      "Caixa de som teve 489705 vendas em 2022 e 725316 vendas em 2023, com um crescimento de 48.1%.\n",
      "Microfone teve 328311 vendas em 2022 e 644622 vendas em 2023, com um crescimento de 96.3%.\n",
      "Câmera canon teve 591120 vendas em 2022 e 994303 vendas em 2023, com um crescimento de 68.2%.\n"
     ]
    }
   ],
   "source": [
    "vendas_produtos = [('iphone', 558147, 951642), ('galaxy', 712350, 244295), ('ipad', 573823, 26964), ('tv', 405252, 787604), ('máquina de café', 718654, 867660), ('kindle', 531580, 78830), ('geladeira', 973139, 710331), ('adega', 892292, 646016), ('notebook dell', 422760, 694913), ('notebook hp', 154753, 539704), ('notebook asus', 887061, 324831), ('microsoft surface', 438508, 667179), ('webcam', 237467, 295633), ('caixa de som', 489705, 725316), ('microfone', 328311, 644622), ('câmera canon', 591120, 994303)]\n",
    "\n",
    "for produto, vendas_2022, vendas_2023 in vendas_produtos:\n",
    "    if vendas_2023 > vendas_2022:\n",
    "        crescimento = vendas_2023 / vendas_2022 - 1\n",
    "        print('{} teve {} vendas em 2022 e {} vendas em 2023, com um crescimento de {:.1%}.'.format(produto.capitalize(), vendas_2022, vendas_2023, crescimento))"
   ]
  }
 ],
 "metadata": {
  "kernelspec": {
   "display_name": "Python 3",
   "language": "python",
   "name": "python3"
  },
  "language_info": {
   "codemirror_mode": {
    "name": "ipython",
    "version": 3
   },
   "file_extension": ".py",
   "mimetype": "text/x-python",
   "name": "python",
   "nbconvert_exporter": "python",
   "pygments_lexer": "ipython3",
   "version": "3.11.5"
  }
 },
 "nbformat": 4,
 "nbformat_minor": 4
}
