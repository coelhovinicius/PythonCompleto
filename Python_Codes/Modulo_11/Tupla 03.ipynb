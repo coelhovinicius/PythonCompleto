{
 "cells": [
  {
   "cell_type": "markdown",
   "metadata": {},
   "source": [
    "# Aplicação de Tupla - Lista de Tuplas\n",
    "\n",
    "### Estrutura:\n",
    "\n",
    "Além de casos como o do enumerate, em que usamos uma função para transformar itens em tuplas porque isso ajuda o nosso código, temos também listas de tuplas como algo comum dentro do Python."
   ]
  },
  {
   "cell_type": "raw",
   "metadata": {},
   "source": [
    "lista = [\n",
    "    tupla1,\n",
    "    tupla2,\n",
    "    tupla3,\n",
    "    ]\n",
    "    \n",
    "ou seja\n",
    "\n",
    "lista = [\n",
    "    (valor1, valor2, valor3),\n",
    "    (valor4, valor5, valor6),\n",
    "    (valor7, valor8, valor9),\n",
    "    ]"
   ]
  },
  {
   "cell_type": "markdown",
   "metadata": {},
   "source": [
    "### Exemplo:\n",
    "\n",
    "Digamos que você está analisando as vendas do Banco de Dados de um e-commerce.\n",
    "\n",
    "Em um determinado dia, você extraiu as vendas do Banco de Dados e elas vieram nesse formato:"
   ]
  },
  {
   "cell_type": "code",
   "execution_count": 5,
   "metadata": {},
   "outputs": [
    {
     "name": "stdout",
     "output_type": "stream",
     "text": [
      "[('20/08/2023', 'iphone x', 'azul', '128gb', 350, 4000), ('20/08/2023', 'iphone x', 'prata', '128gb', 1500, 4000), ('20/08/2023', 'ipad', 'prata', '256gb', 127, 6000), ('20/08/2023', 'ipad', 'prata', '128gb', 981, 5000), ('21/08/2023', 'iphone x', 'azul', '128gb', 397, 4000), ('21/08/2023', 'iphone x', 'prata', '128gb', 1017, 4000), ('21/08/2023', 'ipad', 'prata', '256gb', 50, 6000), ('21/08/2023', 'ipad', 'prata', '128gb', 4000, 5000)]\n"
     ]
    }
   ],
   "source": [
    "vendas = [\n",
    "    ('20/08/2023', 'iphone x', 'azul', '128gb', 350, 4000),\n",
    "    ('20/08/2023', 'iphone x', 'prata', '128gb', 1500, 4000),\n",
    "    ('20/08/2023', 'ipad', 'prata', '256gb', 127, 6000),\n",
    "    ('20/08/2023', 'ipad', 'prata', '128gb', 981, 5000),\n",
    "    ('21/08/2023', 'iphone x', 'azul', '128gb', 397, 4000),\n",
    "    ('21/08/2023', 'iphone x', 'prata', '128gb', 1017, 4000),\n",
    "    ('21/08/2023', 'ipad', 'prata', '256gb', 50, 6000),\n",
    "    ('21/08/2023', 'ipad', 'prata', '128gb', 4000, 5000),\n",
    "]\n",
    "\n",
    "print(vendas)"
   ]
  },
  {
   "cell_type": "markdown",
   "metadata": {},
   "source": [
    "- Qual foi o faturamento de IPhone no dia 20/08/2020?\n",
    "- Qual foi o produto mais vendido (em unidades) no dia 21/08/2020?"
   ]
  },
  {
   "cell_type": "code",
   "execution_count": 10,
   "metadata": {},
   "outputs": [
    {
     "name": "stdout",
     "output_type": "stream",
     "text": [
      "O faturamento total de Iphone X no dia 20/08/2023 foi de R$7,400,000.00\n"
     ]
    }
   ],
   "source": [
    "faturamento = 0\n",
    "\n",
    "for item in vendas:\n",
    "#for data, produto, cor, armazenamento, unidades, valor_unitario in vendas:\n",
    "    data, produto, cor, armazenamento, unidades, valor_unitario = item\n",
    "    if produto == \"iphone x\" and data == '20/08/2023':\n",
    "        faturamento += unidades * valor_unitario\n",
    "\n",
    "print('O faturamento total de Iphone X no dia 20/08/2023 foi de R${:,.2f}'.format(faturamento))"
   ]
  },
  {
   "cell_type": "code",
   "execution_count": 20,
   "metadata": {},
   "outputs": [
    {
     "name": "stdout",
     "output_type": "stream",
     "text": [
      "Produto mais vendido em 21/08/2023: Ipad - 4000 unidades vendidas.\n",
      "Cor mais vendida em 21/08/2023: Prata.\n",
      "Capacidade de armazenamento do produto mais vendido em 21/08/2023: 128gb\n"
     ]
    }
   ],
   "source": [
    "mais_vendido = ''\n",
    "qtde_mais_vendido = 0\n",
    "cor_mais_vendido = ''\n",
    "armazenamento_mais_vendido = 0\n",
    "\n",
    "for item in vendas:\n",
    "    data, produto, cor, armazenamento, unidades, valor_unitario = item\n",
    "    if data == '21/08/2023':\n",
    "        if unidades > qtde_mais_vendido:\n",
    "            mais_vendido = produto\n",
    "            qtde_mais_vendido = unidades\n",
    "            cor_mais_vendido = cor\n",
    "            armazenamento_mais_vendido = armazenamento\n",
    "  \n",
    "print('Produto mais vendido em 21/08/2023: {} - {} unidades vendidas.'.format(mais_vendido.capitalize(), qtde_mais_vendido))\n",
    "print('Cor mais vendida em 21/08/2023: {}.'.format(cor_mais_vendido.capitalize()))\n",
    "print('Capacidade de armazenamento do produto mais vendido em 21/08/2023: {}'.format(armazenamento_mais_vendido))"
   ]
  }
 ],
 "metadata": {
  "kernelspec": {
   "display_name": "Python 3",
   "language": "python",
   "name": "python3"
  },
  "language_info": {
   "codemirror_mode": {
    "name": "ipython",
    "version": 3
   },
   "file_extension": ".py",
   "mimetype": "text/x-python",
   "name": "python",
   "nbconvert_exporter": "python",
   "pygments_lexer": "ipython3",
   "version": "3.11.5"
  }
 },
 "nbformat": 4,
 "nbformat_minor": 4
}
