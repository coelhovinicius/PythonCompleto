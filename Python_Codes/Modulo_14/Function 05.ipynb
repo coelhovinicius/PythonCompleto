{
 "cells": [
  {
   "cell_type": "markdown",
   "metadata": {},
   "source": [
    "# Mais de 1 argumento e formas de passar argumento para uma função\n",
    "\n",
    "### Estrutura:\n",
    "\n",
    "- 2 formas de passar o argumento:\n",
    "    1. Em ordem (positional argument)\n",
    "    2. Com o nome do argumento (keyword argument)"
   ]
  },
  {
   "cell_type": "markdown",
   "metadata": {},
   "source": [
    "- Vamos mudar a função que fizemos na aula passada para conseguir categorizar qualquer tipo de bebida de acordo com o \"rótulo\" passado para a nsosa function. Basicamente nossa function agora tem que verificar se o produto é da categoria passada ou não."
   ]
  },
  {
   "cell_type": "code",
   "execution_count": 10,
   "metadata": {},
   "outputs": [
    {
     "name": "stdout",
     "output_type": "stream",
     "text": [
      "O produto \"BSA45510\" não é uma bebida alcóolica\n",
      "O produto \"BEB21365\" é uma bebida alcóolica\n",
      "O produto \"BEB31623\" é uma bebida alcóolica\n",
      "O produto \"BSA62419\" não é uma bebida alcóolica\n",
      "O produto \"BEB73344\" é uma bebida alcóolica\n",
      "O produto \"BEB80694\" é uma bebida alcóolica\n",
      "O produto \"BSA11769\" não é uma bebida alcóolica\n",
      "O produto \"BEB19495\" é uma bebida alcóolica\n",
      "O produto \"BSA33484\" não é uma bebida alcóolica\n",
      "O produto \"BEB97471\" é uma bebida alcóolica\n",
      "O produto \"BEB62362\" é uma bebida alcóolica\n",
      "O produto \"BEB85146\" é uma bebida alcóolica\n",
      "O produto \"BEB48898\" é uma bebida alcóolica\n",
      "O produto \"BEB79496\" é uma bebida alcóolica\n",
      "O produto \"BSA59251\" não é uma bebida alcóolica\n",
      "O produto \"BEB15385\" é uma bebida alcóolica\n",
      "O produto \"BEB24213\" é uma bebida alcóolica\n",
      "O produto \"BEB56262\" é uma bebida alcóolica\n",
      "O produto \"BSA96915\" não é uma bebida alcóolica\n",
      "O produto \"BEB75073\" é uma bebida alcóolica\n"
     ]
    }
   ],
   "source": [
    "def categoria_bebida(bebida, cod_produto):\n",
    "    bebida = bebida.upper()\n",
    "    if cod_produto in bebida:\n",
    "        return True\n",
    "    else:\n",
    "        return False\n",
    "    \n",
    "\n",
    "produtos = ['CAR46275','TFA23962','TFA64715','TFA69555','TFA56743','BSA45510','TFA44968','CAR75448','CAR23596','CAR13490','BEB21365','BEB31623','BSA62419','BEB73344','TFA20079','BEB80694','BSA11769','BEB19495','TFA14792','TFA78043','BSA33484','BEB97471','BEB62362','TFA27311','TFA17715','BEB85146','BEB48898','BEB79496','CAR38417','TFA19947','TFA58799','CAR94811','BSA59251','BEB15385','BEB24213','BEB56262','BSA96915','CAR53454','BEB75073']\n",
    "\n",
    "for produto in produtos:\n",
    "    if categoria_bebida(bebida = produto, cod_produto = 'BEB'):\n",
    "        print('O produto \"{}\" é uma bebida alcóolica'.format(produto))\n",
    "    elif categoria_bebida(bebida = produto, cod_produto = 'BSA'):\n",
    "        print('O produto \"{}\" não é uma bebida alcóolica'.format(produto))\n"
   ]
  },
  {
   "cell_type": "code",
   "execution_count": 18,
   "metadata": {},
   "outputs": [
    {
     "name": "stdout",
     "output_type": "stream",
     "text": [
      "Produtos: ['CAR46275', 'TFA23962', 'TFA64715', 'TFA69555', 'TFA56743', 'BSA45510', 'TFA44968', 'CAR75448', 'CAR23596', 'CAR13490', 'BEB21365', 'BEB31623', 'BSA62419', 'BEB73344', 'TFA20079', 'BEB80694', 'BSA11769', 'BEB19495', 'TFA14792', 'TFA78043', 'BSA33484', 'BEB97471', 'BEB62362', 'TFA27311', 'TFA17715', 'BEB85146', 'BEB48898', 'BEB79496', 'CAR38417', 'TFA19947', 'TFA58799', 'CAR94811', 'BSA59251', 'BEB15385', 'BEB24213', 'BEB56262', 'BSA96915', 'CAR53454', 'BEB75073']\n",
      "Quantidade de produtos:\n",
      "39\n"
     ]
    }
   ],
   "source": [
    "print('Produtos:', produtos)\n",
    "\n",
    "qtd_produtos = len(produtos)\n",
    "print('Quantidade de produtos:', qtd_produtos, sep = '\\n')\n"
   ]
  },
  {
   "cell_type": "markdown",
   "metadata": {},
   "source": [
    "## Obs Importante: Sua função deve estar SEMPRE antes de ser usada.\n",
    "\n",
    "- Normalmente, nos nossos códigos, fazemos as definições de todas as funções antes e depois construimos o resto do código.\n",
    "- É comum dar '2 enters' após a definição da função para deixar o código mais organizado\n"
   ]
  }
 ],
 "metadata": {
  "kernelspec": {
   "display_name": "Python 3",
   "language": "python",
   "name": "python3"
  },
  "language_info": {
   "codemirror_mode": {
    "name": "ipython",
    "version": 3
   },
   "file_extension": ".py",
   "mimetype": "text/x-python",
   "name": "python",
   "nbconvert_exporter": "python",
   "pygments_lexer": "ipython3",
   "version": "3.11.5"
  }
 },
 "nbformat": 4,
 "nbformat_minor": 4
}
