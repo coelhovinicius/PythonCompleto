{
 "cells": [
  {
   "cell_type": "markdown",
   "metadata": {},
   "source": [
    "# Mais sobre o return\n",
    "\n",
    "### Pontos importantes:\n",
    "\n",
    "- Podemos usar no return praticamente qualquer tipo de objeto: (número, string, lista, tupla, dicionário, outros objetos, etc.)\n",
    "- O return, se for executado, encerra a função, mesmo que dentro dela haja um loop."
   ]
  },
  {
   "cell_type": "code",
   "execution_count": 1,
   "metadata": {},
   "outputs": [],
   "source": [
    "#retornar um número\n",
    "def minha_soma(num1, num2, num3):\n",
    "    return num1 + num2 + num3\n",
    "\n",
    "#retornar um texto\n",
    "def padronizar_texto(texto):\n",
    "    texto = texto.casefold()\n",
    "    texto = texto.replace(\"  \", \" \")\n",
    "    texto = texto.strip()\n",
    "    return texto\n",
    "\n",
    "#retornar um boolean\n",
    "def bateu_meta(vendas, meta):\n",
    "    if vendas >= meta:\n",
    "        return True\n",
    "    else:\n",
    "        return False\n",
    "    \n",
    "#retornar uma lista, tupla ou dicionario\n",
    "def filtrar_lista_texto(lista, pedaco_texto):\n",
    "    lista_filtrada = []\n",
    "    for item in lista:\n",
    "        if pedaco_texto in item:\n",
    "            lista_filtrada.append(item)\n",
    "    return lista_filtrada"
   ]
  },
  {
   "cell_type": "code",
   "execution_count": 2,
   "metadata": {},
   "outputs": [
    {
     "name": "stdout",
     "output_type": "stream",
     "text": [
      "Vinícius superou a meta\n"
     ]
    }
   ],
   "source": [
    "vendas_vinicius = 1000000\n",
    "meta = 10000\n",
    "\n",
    "if bateu_meta(vendas_vinicius, meta):\n",
    "    print('Vinícius superou a meta')"
   ]
  },
  {
   "cell_type": "code",
   "execution_count": 3,
   "metadata": {},
   "outputs": [
    {
     "name": "stdout",
     "output_type": "stream",
     "text": [
      "['vinicius@gmail.com', 'juliane@gmail.com', 'mochi@gmail.com', 'nori@gmail.com', 'frida@gmail.com']\n",
      "['augusto@yahoo.com']\n",
      "['cida@hotmail.com', 'anizio@hotmail.com']\n"
     ]
    }
   ],
   "source": [
    "lista_emails = ['vinicius@gmail.com', 'juliane@gmail.com', 'cida@hotmail.com', 'augusto@yahoo.com', 'anizio@hotmail.com', 'mochi@gmail.com', 'nori@gmail.com', 'frida@gmail.com']\n",
    "\n",
    "lista_gmail = filtrar_lista_texto(lista_emails, 'gmail')\n",
    "print(lista_gmail)\n",
    "\n",
    "lista_yahoo = filtrar_lista_texto(lista_emails, 'yahoo')\n",
    "print(lista_yahoo)\n",
    "\n",
    "lista_hotmail = filtrar_lista_texto(lista_emails, 'hotmail')\n",
    "print(lista_hotmail)"
   ]
  }
 ],
 "metadata": {
  "kernelspec": {
   "display_name": "Python 3",
   "language": "python",
   "name": "python3"
  },
  "language_info": {
   "codemirror_mode": {
    "name": "ipython",
    "version": 3
   },
   "file_extension": ".py",
   "mimetype": "text/x-python",
   "name": "python",
   "nbconvert_exporter": "python",
   "pygments_lexer": "ipython3",
   "version": "3.11.5"
  }
 },
 "nbformat": 4,
 "nbformat_minor": 4
}
