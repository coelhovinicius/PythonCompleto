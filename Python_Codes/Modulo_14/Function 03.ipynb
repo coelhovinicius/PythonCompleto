{
 "cells": [
  {
   "cell_type": "markdown",
   "metadata": {},
   "source": [
    "# Argumentos/Parâmetros da Função\n",
    "\n",
    "### Estrutura:"
   ]
  },
  {
   "cell_type": "raw",
   "metadata": {},
   "source": [
    "def minha_funcao(parametro1, parametro2, parametro3):\n",
    "    return parametro1 + parametro2 + parametro3"
   ]
  },
  {
   "cell_type": "markdown",
   "metadata": {},
   "source": [
    "- Exemplo: Print"
   ]
  },
  {
   "cell_type": "code",
   "execution_count": 3,
   "metadata": {},
   "outputs": [
    {
     "name": "stdout",
     "output_type": "stream",
     "text": [
      "Vinicius vendas Iphone hoje 300\n"
     ]
    }
   ],
   "source": [
    "vendas = 300\n",
    "print('Vinicius', 'vendas', 'Iphone', 'hoje', vendas)"
   ]
  },
  {
   "cell_type": "markdown",
   "metadata": {},
   "source": [
    "- Só para mostrar o funcionamento, vamos criar uma função de soma"
   ]
  },
  {
   "cell_type": "code",
   "execution_count": 7,
   "metadata": {},
   "outputs": [
    {
     "name": "stdout",
     "output_type": "stream",
     "text": [
      "918\n"
     ]
    }
   ],
   "source": [
    "def somar(n1, n2, n3):\n",
    "    return n1 + n2 + n3\n",
    "\n",
    "\n",
    "soma = somar(5, 10, 903)\n",
    "print(soma)"
   ]
  },
  {
   "cell_type": "markdown",
   "metadata": {},
   "source": [
    "- Vamos criar uma function com parâmetro\n",
    "\n",
    "Digamos que estamos criando um programa para categorizar os produtos de uma revendedora de bebidas.\n",
    "\n",
    "Cada produto tem um código. O tipo de produto é dado pelas 3 primeiras letras do código.\n",
    "\n",
    "Ex:<br>\n",
    "Vinho -> BEB12302<br>\n",
    "Cerveja -> BEB12043<br>\n",
    "Vodka -> BEB34501<br>\n",
    "\n",
    "Guaraná -> BSA11104<br>\n",
    "Coca -> BSA54301<br>\n",
    "Sprite -> BSA34012<br>\n",
    "Água -> BSA09871<br>\n",
    "\n",
    "Repare que bebidas não alcóolicas começam com BSA e bebidas alcoolicas começam com BEB.\n",
    "\n",
    "Crie um programa que analise uma lista de produtos e envie instruções para a equipe de estoque dizendo quais produtos devem ser enviados para a área de bebidas alcóolicas."
   ]
  },
  {
   "cell_type": "code",
   "execution_count": 9,
   "metadata": {},
   "outputs": [
    {
     "name": "stdout",
     "output_type": "stream",
     "text": [
      "O produto \"beb46275\" é uma bebida alcóolica\n",
      "O produto \"BEB21365\" é uma bebida alcóolica\n",
      "O produto \"BEB31623\" é uma bebida alcóolica\n",
      "O produto \"BEB73344\" é uma bebida alcóolica\n",
      "O produto \"BEB80694\" é uma bebida alcóolica\n",
      "O produto \"BEB19495\" é uma bebida alcóolica\n",
      "O produto \"BEB97471\" é uma bebida alcóolica\n",
      "O produto \"BEB62362\" é uma bebida alcóolica\n",
      "O produto \"BEB85146\" é uma bebida alcóolica\n",
      "O produto \"BEB48898\" é uma bebida alcóolica\n",
      "O produto \"BEB79496\" é uma bebida alcóolica\n",
      "O produto \"BEB15385\" é uma bebida alcóolica\n",
      "O produto \"BEB24213\" é uma bebida alcóolica\n",
      "O produto \"BEB56262\" é uma bebida alcóolica\n",
      "O produto \"BEB75073\" é uma bebida alcóolica\n"
     ]
    }
   ],
   "source": [
    "def beb_alcoolica(bebida):\n",
    "    bebida = bebida.upper()\n",
    "    if 'BEB' in bebida:\n",
    "        return True\n",
    "    else:\n",
    "        return False\n",
    "\n",
    "\n",
    "produtos = ['beb46275','TFA23962','TFA64715','TFA69555','TFA56743','BSA45510','TFA44968','CAR75448','CAR23596','CAR13490','BEB21365','BEB31623','BSA62419','BEB73344','TFA20079','BEB80694','BSA11769','BEB19495','TFA14792','TFA78043','BSA33484','BEB97471','BEB62362','TFA27311','TFA17715','BEB85146','BEB48898','BEB79496','CAR38417','TFA19947','TFA58799','CAR94811','BSA59251','BEB15385','BEB24213','BEB56262','BSA96915','CAR53454','BEB75073']\n",
    "\n",
    "for produto in produtos:\n",
    "    if beb_alcoolica(produto):\n",
    "        print('O produto \"{}\" é uma bebida alcóolica'.format(produto))"
   ]
  }
 ],
 "metadata": {
  "kernelspec": {
   "display_name": "Python 3",
   "language": "python",
   "name": "python3"
  },
  "language_info": {
   "codemirror_mode": {
    "name": "ipython",
    "version": 3
   },
   "file_extension": ".py",
   "mimetype": "text/x-python",
   "name": "python",
   "nbconvert_exporter": "python",
   "pygments_lexer": "ipython3",
   "version": "3.11.5"
  }
 },
 "nbformat": 4,
 "nbformat_minor": 4
}
