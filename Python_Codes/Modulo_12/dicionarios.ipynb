{
 "cells": [
  {
   "cell_type": "markdown",
   "metadata": {},
   "source": [
    "### Exercício 1\n",
    "Crie um sistema de consulta de preços.\n",
    "Seu sistema deve:\n",
    "- Pedir para o usuário o nome de um produto\n",
    "- Caso o produto exista na lista de produtos, o programa deve retornar o preço do produto como resposta\n",
    "       - Ex: O produto celular custa R$1500\n",
    "- Caso o produto não exista na lista de produtos, o programa deve printar uma mensagem para o usuário tentar novamente\n"
   ]
  },
  {
   "cell_type": "code",
   "execution_count": 3,
   "metadata": {},
   "outputs": [
    {
     "name": "stdout",
     "output_type": "stream",
     "text": [
      "Produto \"Lichia\" não cadastrado. Tente novamente.\n"
     ]
    }
   ],
   "source": [
    "precos = {\"celular\": 1500, \"camera\": 1000, \"fone de ouvido\": 800, \"monitor\": 2000}\n",
    "\n",
    "produto = input('Digite o nome do produto: ').casefold()\n",
    "\n",
    "if produto in precos:\n",
    "    print('Produto: {} - Valor: ${:.2f}'.format(produto.title(),precos[produto]))\n",
    "else:\n",
    "    print('Produto \"{}\" não cadastrado. Tente novamente.'.format(produto.title()))"
   ]
  },
  {
   "cell_type": "markdown",
   "metadata": {},
   "source": [
    "\n",
    "### Exercício 2\n",
    "Agora edite o programa anterior para fazer com que, caso não exista o produto, o programa pergunte se o usuário quer cadastrar o produto\n",
    "<br>Se ele responder sim, o programa deve pedir o nome do produto e o preco do produto e cadastrar no dicionário de preços\n",
    "<br>Em seguida do cadastro bem sucedido, o programa deve printar o dicionário de precos atualizado\n"
   ]
  },
  {
   "cell_type": "code",
   "execution_count": 7,
   "metadata": {},
   "outputs": [
    {
     "name": "stdout",
     "output_type": "stream",
     "text": [
      "Produto não cadastrado. Tente novamente.\n"
     ]
    }
   ],
   "source": [
    "precos = {\"celular\": 1500, \"camera\": 1000, \"fone de ouvido\": 800, \"monitor\": 2000}\n",
    "\n",
    "produto = input('Digite o nome do produto: ').casefold()\n",
    "\n",
    "if produto in precos:\n",
    "    print('Produto: {} - Valor: ${:.2f}'.format(produto.title(),precos[produto]))\n",
    "else:\n",
    "    cadastrar = input('Produto \"{}\" não cadastrado. Gostaria de cadastrar o produto? (SIM ou NÃO): '.format(produto.title())).casefold()\n",
    "    if cadastrar == 'sim':\n",
    "        preco = float(input('Digite o valor do produto {}: '.format(produto.title())))\n",
    "        precos[produto] = preco\n",
    "        print('{} cadastrado com sucesso. Preço: ${:.2f}'.format(produto.title(), preco))\n",
    "        print(precos)\n",
    "    else:\n",
    "        print('Produto não cadastrado. Tente novamente.')"
   ]
  },
  {
   "cell_type": "markdown",
   "metadata": {},
   "source": [
    "### Exercício 3\n",
    "Dada a lista de preços de produtos, uma loja resolveu fazer um reajuste nos preços dos produtos. \n",
    "Calcule o novo valor dos produtos com base nas seguintes regras:\n",
    "- Preços até 1.000 vão ter um reajuste de 10% (ou seja, o novo preço será 110% do preço atual)\n",
    "- Preços até maiores que 1.000 até 2.000 vão ter reajuste de 15%\n",
    "- Preços acima de 2.000 vão ter reajuste de 20%"
   ]
  },
  {
   "cell_type": "code",
   "execution_count": 8,
   "metadata": {},
   "outputs": [
    {
     "name": "stdout",
     "output_type": "stream",
     "text": [
      "Produto: Celular - Novo Preço: $1725.00\n",
      "Produto: Camera - Novo Preço: $1100.00\n",
      "Produto: Fone De Ouvido - Novo Preço: $880.00\n",
      "Produto: Monitor - Novo Preço: $3600.00\n"
     ]
    }
   ],
   "source": [
    "precos = {\"celular\": 1500, \"camera\": 1000, \"fone de ouvido\": 800, \"monitor\": 3000}\n",
    "'''\n",
    "chaves = precos.keys()\n",
    "valores = precos.values()\n",
    "print(chaves)\n",
    "print(valores)'''\n",
    "\n",
    "for produto in precos:\n",
    "    preco = precos[produto]\n",
    "    if preco <= 1000:\n",
    "        novo_preco = preco * 1.1\n",
    "    elif preco <= 2000:\n",
    "        novo_preco = preco * 1.15\n",
    "    else:\n",
    "        novo_preco = preco * 1.2\n",
    "\n",
    "    print('Produto: {} - Novo Preço: ${:.2f}'.format(produto.title(), novo_preco))\n"
   ]
  },
  {
   "cell_type": "markdown",
   "metadata": {},
   "source": [
    "### Exercício 4\n",
    " - Edite o programa antigo para ter os 2 dicionários, o de preços originais e o de novos preços\n",
    " - Em seguida calcule o valor total de reajuste em R$ que teve entre a lista de produtos original e a lista final\n"
   ]
  },
  {
   "cell_type": "code",
   "execution_count": 10,
   "metadata": {},
   "outputs": [
    {
     "name": "stdout",
     "output_type": "stream",
     "text": [
      "Produto: Celular - Novo Preço: $1725.00\n",
      "Produto: Camera - Novo Preço: $1100.00\n",
      "Produto: Fone De Ouvido - Novo Preço: $880.00\n",
      "Produto: Monitor - Novo Preço: $3600.00\n",
      "Reajuste total: $1005.00\n"
     ]
    }
   ],
   "source": [
    "precos = {\"celular\": 1500, \"camera\": 1000, \"fone de ouvido\": 800, \"monitor\": 3000}\n",
    "novos_precos = {}\n",
    "\n",
    "for produto in precos:\n",
    "    preco = precos[produto]\n",
    "    if preco <= 1000:\n",
    "        novo_preco = preco * 1.1\n",
    "    elif preco <= 2000:\n",
    "        novo_preco = preco * 1.15\n",
    "    else:\n",
    "        novo_preco = preco * 1.2\n",
    "    print('Produto: {} - Novo Preço: ${:.2f}'.format(produto.title(), novo_preco))\n",
    "    novos_precos[produto] = novo_preco\n",
    "\n",
    "total_antigo = sum(precos.values())\n",
    "total_novo = sum(novos_precos.values())\n",
    "reajuste = total_novo - total_antigo\n",
    "print('Reajuste total: ${:.2f}'.format(reajuste))\n"
   ]
  },
  {
   "cell_type": "markdown",
   "metadata": {},
   "source": [
    "\n",
    "### Exercício 5\n",
    "- Uma empresa está analisando os resultados de vendas do 1º semestre de 2022 e 2023\n",
    "- Qual foi o % de crescimento de cada mês de 2023 em relação a 2022?\n",
    "- Depois de calcular isso, calcule o valor total de crescimento de 2023 em relação a 2022"
   ]
  },
  {
   "cell_type": "code",
   "execution_count": 15,
   "metadata": {},
   "outputs": [
    {
     "name": "stdout",
     "output_type": "stream",
     "text": [
      "Mês: Jan - Variação percentual: 13.3%\n",
      "Mês: Fev - Variação percentual: -3.2%\n",
      "Mês: Mar - Variação percentual: 25.0%\n",
      "Mês: Abr - Variação percentual: 1.8%\n",
      "Mês: Mai - Variação percentual: -1.8%\n",
      "Mês: Jun - Variação percentual: 8.8%\n",
      "% Crescimento real: 6.9%\n"
     ]
    }
   ],
   "source": [
    "vendas_22 = {\"jan\": 15000, \"fev\": 15500, \"mar\": 14000, \"abr\": 16600, \"mai\": 16300, \"jun\": 17000}\n",
    "vendas_23 = {\"jan\": 17000, \"fev\": 15000, \"mar\": 17500, \"abr\": 16900, \"mai\": 16000, \"jun\": 18500}\n",
    "\n",
    "for mes in vendas_23:\n",
    "    valor_22 = vendas_22[mes]\n",
    "    valor_23 = vendas_23[mes]\n",
    "    percentual_aumento = valor_23 / valor_22 - 1\n",
    "    print('Mês: {} - Variação percentual: {:.1%}'.format(mes.capitalize(), percentual_aumento))\n",
    "\n",
    "total_22 = sum(vendas_22.values())\n",
    "total_23 = sum(vendas_23.values())\n",
    "crescimento = total_23 / total_22 - 1\n",
    "print(\"% Crescimento real: {:.1%}\".format(crescimento))"
   ]
  },
  {
   "cell_type": "markdown",
   "metadata": {},
   "source": [
    "### Exercício 6 - Desafio\n",
    "- No final da reunião de apresentação dos números, seu chefe perguntou:\n",
    "- E se nos meses de 2023 que a gente vendeu menos do que 2022 a gente tivesse pelo menos empatado com 2022 (ou seja, se nos meses de 2023 em que as vendas foram menores do que o mesmo mês em 2022, o valor de vendas tivesse sido igual a 2022)\n",
    "- Qual teria sido o nosso crescimento de 2023 frente a 2022?"
   ]
  },
  {
   "cell_type": "code",
   "execution_count": 17,
   "metadata": {},
   "outputs": [
    {
     "name": "stdout",
     "output_type": "stream",
     "text": [
      "Mês: Jan - Variação percentual: 13.3%\n",
      "Mês: Fev - Variação percentual: -3.2%\n",
      "Mês: Mar - Variação percentual: 25.0%\n",
      "Mês: Abr - Variação percentual: 1.8%\n",
      "Mês: Mai - Variação percentual: -1.8%\n",
      "Mês: Jun - Variação percentual: 8.8%\n",
      "% Crescimento simulado: 7.7%\n"
     ]
    }
   ],
   "source": [
    "vendas_22 = {\"jan\": 15000, \"fev\": 15500, \"mar\": 14000, \"abr\": 16600, \"mai\": 16300, \"jun\": 17000}\n",
    "vendas_23 = {\"jan\": 17000, \"fev\": 15000, \"mar\": 17500, \"abr\": 16900, \"mai\": 16000, \"jun\": 18500}\n",
    "\n",
    "for mes in vendas_23:\n",
    "    valor_22 = vendas_22[mes]\n",
    "    valor_23 = vendas_23[mes]\n",
    "    percentual_aumento = valor_23 / valor_22 - 1\n",
    "    if percentual_aumento < 0:\n",
    "        vendas_23[mes] = vendas_22[mes]\n",
    "    print('Mês: {} - Variação percentual: {:.1%}'.format(mes.capitalize(), percentual_aumento))\n",
    "\n",
    "total_22 = sum(vendas_22.values())\n",
    "total_23 = sum(vendas_23.values())\n",
    "crescimento = total_23 / total_22 - 1\n",
    "print(\"% Crescimento simulado: {:.1%}\".format(crescimento))"
   ]
  }
 ],
 "metadata": {
  "kernelspec": {
   "display_name": "Python 3",
   "language": "python",
   "name": "python3"
  },
  "language_info": {
   "codemirror_mode": {
    "name": "ipython",
    "version": 3
   },
   "file_extension": ".py",
   "mimetype": "text/x-python",
   "name": "python",
   "nbconvert_exporter": "python",
   "pygments_lexer": "ipython3",
   "version": "3.11.5"
  }
 },
 "nbformat": 4,
 "nbformat_minor": 2
}
