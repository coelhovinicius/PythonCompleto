{
 "cells": [
  {
   "cell_type": "markdown",
   "metadata": {},
   "source": [
    "# Não confie na ordem dos dicionários, use as chaves\n",
    "\n",
    "### Python Versões Antigas x Versões Novas\n",
    "\n",
    "- Dicionários eram \"sem ordem\". Atualmente tem ordem, mas o certo é usar as chaves\n",
    "- 2 formas de pegar um valor:\n",
    "    - dicionario[chave]\n",
    "    - .get(chave)"
   ]
  },
  {
   "cell_type": "code",
   "execution_count": 1,
   "metadata": {},
   "outputs": [],
   "source": [
    "mais_vendidos = {'tecnologia': 'iphone', 'refrigeracao': 'ar consul 12000 btu', 'livros': 'o alquimista', 'eletrodoméstico': 'geladeira', 'lazer': 'prancha surf'}\n",
    "\n",
    "vendas_tecnologia = {'iphone': 15000, 'samsung galaxy': 12000, 'tv samsung': 10000, 'ps5': 14300, 'tablet': 1720, 'ipad': 1000, 'tv philco': 2500, 'notebook hp': 1000, 'notebook dell': 17000, 'notebook asus': 2450}"
   ]
  },
  {
   "cell_type": "markdown",
   "metadata": {},
   "source": [
    "- Qual foi o item mais vendido nas categorias 'livros' e 'lazer'?\n",
    "- Quanto foi vendido de 'notebook asus' e de 'ipad'?"
   ]
  },
  {
   "cell_type": "code",
   "execution_count": 13,
   "metadata": {},
   "outputs": [
    {
     "name": "stdout",
     "output_type": "stream",
     "text": [
      "Item mais vendido da categoria Livros: O Alquimista.\n",
      "Item mais vendido da categoria Lazer: Prancha Surf.\n",
      "Quantidade vendida de Notebook Asus: 2450 unidades.\n",
      "Quantidade vendida de Ipad: 1000 unidades.\n",
      "None\n",
      "None\n"
     ]
    }
   ],
   "source": [
    "print('Item mais vendido da categoria Livros: {}.'.format(mais_vendidos['livros'].title()))\n",
    "print('Item mais vendido da categoria Lazer: {}.'.format(mais_vendidos['lazer'].title()))\n",
    "\n",
    "# Método GET:\n",
    "print('Quantidade vendida de Notebook Asus: {} unidades.'.format(vendas_tecnologia.get('notebook asus')))\n",
    "print('Quantidade vendida de Ipad: {} unidades.'.format(vendas_tecnologia.get('ipad')))\n",
    "\n",
    "# O método GET retorna \"None\", caso não encontre o item\n",
    "print(vendas_tecnologia.get('notebooks asus'))\n",
    "print(vendas_tecnologia.get('ipads'))"
   ]
  },
  {
   "cell_type": "markdown",
   "metadata": {},
   "source": [
    "### Verificar se item está no dicionário:\n",
    "\n",
    "- if\n",
    "- .get(chave) = None\n",
    "\n",
    "Se tentarmos procurar as vendas de \"copo\" na lista de vendas tecnologia, o que acontece?"
   ]
  },
  {
   "cell_type": "code",
   "execution_count": 18,
   "metadata": {},
   "outputs": [
    {
     "name": "stdout",
     "output_type": "stream",
     "text": [
      "Item \"copo\" não encontrado.\n",
      "Item \"copo\" não encontrado.\n",
      "1000\n"
     ]
    }
   ],
   "source": [
    "# Tratando com IF\n",
    "if 'copo' in vendas_tecnologia:\n",
    "    print(vendas_tecnologia['copo'])\n",
    "else:\n",
    "    print('Item \"copo\" não encontrado.')\n",
    "\n",
    "# Tratando com IF e GET\n",
    "if vendas_tecnologia.get('copo') == None:\n",
    "    print('Item \"copo\" não encontrado.')\n",
    "else:\n",
    "    print(vendas_tecnologia.get('copo'))\n",
    "\n",
    "if vendas_tecnologia.get('ipad') == None:\n",
    "    print('Item \"ipad\" não encontrado.')\n",
    "else:\n",
    "    print(vendas_tecnologia.get('ipad'))\n"
   ]
  },
  {
   "cell_type": "code",
   "execution_count": null,
   "metadata": {},
   "outputs": [],
   "source": []
  }
 ],
 "metadata": {
  "kernelspec": {
   "display_name": "Python 3",
   "language": "python",
   "name": "python3"
  },
  "language_info": {
   "codemirror_mode": {
    "name": "ipython",
    "version": 3
   },
   "file_extension": ".py",
   "mimetype": "text/x-python",
   "name": "python",
   "nbconvert_exporter": "python",
   "pygments_lexer": "ipython3",
   "version": "3.11.5"
  }
 },
 "nbformat": 4,
 "nbformat_minor": 4
}
