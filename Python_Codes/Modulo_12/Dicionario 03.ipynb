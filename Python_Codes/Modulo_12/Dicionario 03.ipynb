{
 "cells": [
  {
   "cell_type": "markdown",
   "metadata": {},
   "source": [
    "# Adicionar, Remover e Modificar Itens no Dicionário\n",
    "\n",
    "### Estrutura:\n",
    "\n",
    "- Adicionar itens:"
   ]
  },
  {
   "cell_type": "raw",
   "metadata": {},
   "source": [
    "dicionario = {}\n",
    "\n",
    "dicionario[chave] = valor\n",
    "\n",
    "outra opção:\n",
    "\n",
    "dicionario.update({chave: valor, chave: valor})"
   ]
  },
  {
   "cell_type": "code",
   "execution_count": 49,
   "metadata": {},
   "outputs": [
    {
     "name": "stdout",
     "output_type": "stream",
     "text": [
      "1º Trimestre: {'janeiro': 100000, 'fevereiro': 120000, 'março': 90000}\n",
      "2º Trimestre: {'abril': 88000, 'maio': 89000, 'junho': 120000}\n",
      "{'janeiro': 100000, 'fevereiro': 120000, 'março': 90000}\n",
      "{'janeiro': 100000, 'fevereiro': 120000, 'março': 90000, 'abril': 77}\n",
      "Update: {'janeiro': 100000, 'fevereiro': 120000, 'março': 90000, 'abril': 88000, 'maio': 89000, 'junho': 120000}\n",
      "Manualmente: {'janeiro': 100000, 'fevereiro': 120000, 'março': 90000, 'abril': 88000, 'maio': 89000, 'junho': 120000}\n",
      "Modificando o valor de Janeiro: {'janeiro': 200200, 'fevereiro': 120000, 'março': 90000, 'abril': 88000, 'maio': 89000, 'junho': 120000}\n"
     ]
    }
   ],
   "source": [
    "lucro_1tri = {'janeiro': 100000, 'fevereiro': 120000, 'março': 90000}\n",
    "lucro_2tri = {'abril': 88000, 'maio': 89000, 'junho': 120000}\n",
    "print('1º Trimestre: {}'.format(lucro_1tri))\n",
    "print('2º Trimestre: {}'.format(lucro_2tri))\n",
    "\n",
    "#adicionando 1 item\n",
    "print(lucro_1tri)\n",
    "lucro_1tri['abril'] = 77 # adiciona \"abril\" à lista lucro_1tri\n",
    "print(lucro_1tri)\n",
    "\n",
    "#adicionando vários itens ou um dicionário a outro\n",
    "lucro_1tri.update(lucro_2tri)\n",
    "print('Update: {}'.format(lucro_1tri))\n",
    "lucro_1tri.update({'abril': 88000, 'maio': 89000, 'junho': 120000})\n",
    "print('Manualmente: {}'.format(lucro_1tri))\n",
    "\n",
    "#adicionando um item já existente (manualmente ou pelo update)\n",
    "lucro_1tri['janeiro'] = 200200\n",
    "print('Modificando o valor de Janeiro: {}'.format(lucro_1tri))"
   ]
  },
  {
   "cell_type": "markdown",
   "metadata": {},
   "source": [
    "- Modificar itens:\n",
    "\n",
    "Da mesma forma que adicionamos 1 valor, caso essa chave já exista o item é apenas modificado.\n",
    "\n",
    "dicionario[chave] = valor\n",
    "\n",
    "Vamos modificar o lucro de fevereiro:<br>\n",
    "(Lembrando: caso o item não exista, ele vai criar o item no dicionário)"
   ]
  },
  {
   "cell_type": "code",
   "execution_count": 62,
   "metadata": {},
   "outputs": [
    {
     "name": "stdout",
     "output_type": "stream",
     "text": [
      "Modificando Fevereiro: {'janeiro': 100000, 'fevereiro': 88888, 'março': 90000}\n",
      "Modificando Fevereiro: {'janeiro': 100000, 'fevereiro': 88888, 'março': 90000, 'fev': 88888}\n",
      "Excluindo \"fev\" com DEL: {'janeiro': 100000, 'fevereiro': 88888, 'março': 90000}\n"
     ]
    }
   ],
   "source": [
    "lucro_1tri = {'janeiro': 100000, 'fevereiro': 120000, 'março': 90000}\n",
    "lucro_2tri = {'abril': 88000, 'maio': 89000, 'junho': 120000}\n",
    "\n",
    "lucro_fev = 88888\n",
    "\n",
    "lucro_1tri['fevereiro'] = lucro_fev\n",
    "print('Modificando Fevereiro: {}'.format(lucro_1tri))\n",
    "\n",
    "lucro_1tri['fev'] = lucro_fev\n",
    "print('Modificando Fevereiro: {}'.format(lucro_1tri))\n",
    "\n",
    "del lucro_1tri['fev']\n",
    "print('Excluindo \"fev\" com DEL: {}'.format(lucro_1tri))"
   ]
  },
  {
   "cell_type": "markdown",
   "metadata": {},
   "source": [
    "- Remover itens:\n",
    "\n",
    "del dicionario[chave]\n",
    "\n",
    "ou então\n",
    "\n",
    "valor = dicionario.pop(chave) - Remove o item e armazena na variavel \"valor\"\n",
    "\n",
    "mas cuidado com:\n",
    "\n",
    "del dicionario<br>    ->    que é diferente de dicionario.clear()"
   ]
  },
  {
   "cell_type": "code",
   "execution_count": 63,
   "metadata": {},
   "outputs": [
    {
     "name": "stdout",
     "output_type": "stream",
     "text": [
      "Removendo com POP: {'janeiro': 100000, 'março': 90000}\n",
      "Lucro de Fevereiro: 120000\n"
     ]
    }
   ],
   "source": [
    "lucro_1tri = {'janeiro': 100000, 'fevereiro': 120000, 'março': 90000}\n",
    "lucro_2tri = {'abril': 88000, 'maio': 89000, 'junho': 120000}\n",
    "\n",
    "#removendo o mês de junho\n",
    "lucro_fev = lucro_1tri.pop('fevereiro')\n",
    "print('Removendo com POP: {}'.format(lucro_1tri))\n",
    "print('Lucro de Fevereiro: {}'.format(lucro_fev))"
   ]
  },
  {
   "cell_type": "code",
   "execution_count": 73,
   "metadata": {},
   "outputs": [
    {
     "name": "stdout",
     "output_type": "stream",
     "text": [
      "Dicionário limpo com CLEAR: {}\n"
     ]
    },
    {
     "ename": "NameError",
     "evalue": "name 'lucro_1tri' is not defined",
     "output_type": "error",
     "traceback": [
      "\u001b[1;31m---------------------------------------------------------------------------\u001b[0m",
      "\u001b[1;31mNameError\u001b[0m                                 Traceback (most recent call last)",
      "Cell \u001b[1;32mIn[73], line 8\u001b[0m\n\u001b[0;32m      5\u001b[0m \u001b[38;5;28mprint\u001b[39m(\u001b[38;5;124m'\u001b[39m\u001b[38;5;124mDicionário limpo com CLEAR: \u001b[39m\u001b[38;5;132;01m{}\u001b[39;00m\u001b[38;5;124m'\u001b[39m\u001b[38;5;241m.\u001b[39mformat(lucro_1tri))\n\u001b[0;32m      7\u001b[0m \u001b[38;5;28;01mdel\u001b[39;00m lucro_1tri \u001b[38;5;66;03m# Deleta o dicionário inteiro\u001b[39;00m\n\u001b[1;32m----> 8\u001b[0m \u001b[38;5;28mprint\u001b[39m(\u001b[43mlucro_1tri\u001b[49m) \u001b[38;5;66;03m# Dá erro, pois o dicionário não existe mais\u001b[39;00m\n",
      "\u001b[1;31mNameError\u001b[0m: name 'lucro_1tri' is not defined"
     ]
    }
   ],
   "source": [
    "lucro_1tri = {'janeiro': 100000, 'fevereiro': 120000, 'março': 90000}\n",
    "lucro_2tri = {'abril': 88000, 'maio': 89000, 'junho': 120000}\n",
    "\n",
    "lucro_1tri.clear() # Limpa os itens do dicionário\n",
    "print('Dicionário limpo com CLEAR: {}'.format(lucro_1tri))\n",
    "\n",
    "del lucro_1tri # Deleta o dicionário inteiro\n",
    "print(lucro_1tri) # Dá erro, pois o dicionário não existe mais"
   ]
  },
  {
   "cell_type": "code",
   "execution_count": 88,
   "metadata": {},
   "outputs": [
    {
     "name": "stdout",
     "output_type": "stream",
     "text": [
      "['Augusto', 'Vinícius', 'Juliane', 'Cida', 'Anízio']\n",
      "Deletando por índice: ['Vinícius', 'Juliane', 'Cida', 'Anízio']\n"
     ]
    }
   ],
   "source": [
    "# Obs.: O DEL também funciona com listas\n",
    "#del lista[i]\n",
    "funcionarios = ['Augusto', 'Vinícius', 'Juliane', 'Cida', 'Anízio']\n",
    "print(funcionarios)\n",
    "del funcionarios[0]\n",
    "print('Deletando por índice: {}'.format(funcionarios))"
   ]
  },
  {
   "cell_type": "code",
   "execution_count": 90,
   "metadata": {},
   "outputs": [
    {
     "name": "stdout",
     "output_type": "stream",
     "text": [
      "Lista com funcionário adicionado: ['Augusto', 'Vinícius', 'Juliane', 'Cida', 'Anízio', 'Mariazinha']\n"
     ]
    }
   ],
   "source": [
    "funcionarios = ['Augusto', 'Vinícius', 'Juliane', 'Cida', 'Anízio']\n",
    "\n",
    "funcionarios.append('Mariazinha')\n",
    "print('Lista com funcionário adicionado: {}'.format(funcionarios))"
   ]
  }
 ],
 "metadata": {
  "kernelspec": {
   "display_name": "Python 3",
   "language": "python",
   "name": "python3"
  },
  "language_info": {
   "codemirror_mode": {
    "name": "ipython",
    "version": 3
   },
   "file_extension": ".py",
   "mimetype": "text/x-python",
   "name": "python",
   "nbconvert_exporter": "python",
   "pygments_lexer": "ipython3",
   "version": "3.8.3"
  }
 },
 "nbformat": 4,
 "nbformat_minor": 4
}
