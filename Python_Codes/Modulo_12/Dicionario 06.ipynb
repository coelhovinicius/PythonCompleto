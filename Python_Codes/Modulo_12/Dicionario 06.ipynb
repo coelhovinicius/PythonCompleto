{
 "cells": [
  {
   "cell_type": "markdown",
   "metadata": {},
   "source": [
    "# Métodos úteis em dicionários\n",
    "\n",
    "## items() dos dicionários\n",
    "\n",
    "### Estrutura:"
   ]
  },
  {
   "cell_type": "raw",
   "metadata": {},
   "source": [
    "itens_dicionario = dicionario.items()\n",
    "\n",
    "ou então:\n",
    "\n",
    "for item in dicionario.items()\n",
    "    cada item do dicionario em formato de tupla"
   ]
  },
  {
   "cell_type": "code",
   "execution_count": 12,
   "metadata": {},
   "outputs": [
    {
     "name": "stdout",
     "output_type": "stream",
     "text": [
      "Notebook Asus: 2450 unidades\n",
      "Iphone: 15000 unidades\n",
      "Samsung Galaxy: 12000 unidades\n",
      "Tv Samsung: 10000 unidades\n",
      "Ps5: 14300 unidades\n",
      "Tablet: 1720 unidades\n",
      "Notebook Dell: 17000 unidades\n",
      "Ipad: 1000 unidades\n",
      "Tv Philco: 2500 unidades\n",
      "Notebook Hp: 1000 unidades\n",
      "\n",
      "{'notebook asus': 2450, 'iphone': 15000, 'samsung galaxy': 12000, 'tv samsung': 10000, 'ps5': 14300, 'tablet': 1720, 'notebook dell': 17000, 'ipad': 1000, 'tv philco': 2500, 'notebook hp': 1000}\n",
      "\n",
      "notebook asus\n",
      "iphone\n",
      "samsung galaxy\n",
      "tv samsung\n",
      "ps5\n",
      "tablet\n",
      "notebook dell\n",
      "ipad\n",
      "tv philco\n",
      "notebook hp\n",
      "\n",
      "('notebook asus', 2450)\n",
      "('iphone', 15000)\n",
      "('samsung galaxy', 12000)\n",
      "('tv samsung', 10000)\n",
      "('ps5', 14300)\n",
      "('tablet', 1720)\n",
      "('notebook dell', 17000)\n",
      "('ipad', 1000)\n",
      "('tv philco', 2500)\n",
      "('notebook hp', 1000)\n",
      "\n",
      "notebook asus\n",
      "iphone\n",
      "samsung galaxy\n",
      "tv samsung\n",
      "ps5\n",
      "tablet\n",
      "notebook dell\n",
      "ipad\n",
      "tv philco\n",
      "notebook hp\n"
     ]
    }
   ],
   "source": [
    "vendas_tecnologia = {'notebook asus': 2450, 'iphone': 15000, 'samsung galaxy': 12000, 'tv samsung': 10000, 'ps5': 14300, 'tablet': 1720, 'notebook dell': 17000, 'ipad': 1000, 'tv philco': 2500, 'notebook hp': 1000}\n",
    "\n",
    "for produto, qtd in vendas_tecnologia.items():\n",
    "    print('{}: {} unidades'.format(produto.title(), qtd))\n",
    "\n",
    "print()\n",
    "\n",
    "itens_dicionario = vendas_tecnologia.items()\n",
    "print(vendas_tecnologia)\n",
    "\n",
    "print()\n",
    "\n",
    "for item in vendas_tecnologia:\n",
    "    print(item)\n",
    "\n",
    "print()\n",
    "\n",
    "for item in vendas_tecnologia.items():\n",
    "    print(item)\n",
    "\n",
    "print()\n",
    "\n",
    "for item in vendas_tecnologia:\n",
    "    print(item)"
   ]
  },
  {
   "cell_type": "markdown",
   "metadata": {},
   "source": [
    "- Quais produtos venderam mais de 5000 unidades?"
   ]
  },
  {
   "cell_type": "code",
   "execution_count": 19,
   "metadata": {},
   "outputs": [
    {
     "name": "stdout",
     "output_type": "stream",
     "text": [
      "Forma 1: Produtos com quantidades maiores ou superiores a 5000 unidades: \n",
      "Iphone: 15000 unidades\n",
      "Samsung Galaxy: 12000 unidades\n",
      "Tv Samsung: 10000 unidades\n",
      "Ps5: 14300 unidades\n",
      "Notebook Dell: 17000 unidades\n",
      "\n",
      "Forma 2: Produtos com quantidades maiores ou superiores a 5000 unidades: \n",
      "Iphone: 15000 unidades\n",
      "Samsung Galaxy: 12000 unidades\n",
      "Tv Samsung: 10000 unidades\n",
      "Ps5: 14300 unidades\n",
      "Notebook Dell: 17000 unidades\n"
     ]
    }
   ],
   "source": [
    "vendas_tecnologia = {'notebook asus': 2450, 'iphone': 15000, 'samsung galaxy': 12000, 'tv samsung': 10000, 'ps5': 14300, 'tablet': 1720, 'notebook dell': 17000, 'ipad': 1000, 'tv philco': 2500, 'notebook hp': 1000}\n",
    "\n",
    "#forma 1 -> usando apenas o dicionario e as chaves\n",
    "print('Forma 1: Produtos com quantidades maiores ou superiores a 5000 unidades: ')\n",
    "for chave in vendas_tecnologia:\n",
    "    if vendas_tecnologia[chave] >= 5000:\n",
    "        print('{}: {} unidades'.format(chave.title(), vendas_tecnologia[chave]))\n",
    "\n",
    "print()\n",
    "\n",
    "#forma 2 -> usando o dicionario.items()\n",
    "print('Forma 2: Produtos com quantidades maiores ou superiores a 5000 unidades: ')\n",
    "for produto, qtd in vendas_tecnologia.items():\n",
    "    if qtd >= 5000:\n",
    "        print('{}: {} unidades'.format(produto.title(), qtd))"
   ]
  },
  {
   "cell_type": "markdown",
   "metadata": {},
   "source": [
    "# Listas importantes a partir do Dicionário\n",
    "\n",
    "### Métodos importantes:\n",
    "\n",
    ".keys() -> uma \"lista\" com todas as chaves do dicionario\n",
    "\n",
    ".values() -> uma \"lista\" com todos os valores do dicionario\n",
    "\n",
    "Obs: Se o dicionario for modificado, automaticamente essas variáveis são modificadas, mesmo tendo sido criadas anteriormente"
   ]
  },
  {
   "cell_type": "code",
   "execution_count": 20,
   "metadata": {},
   "outputs": [
    {
     "name": "stdout",
     "output_type": "stream",
     "text": [
      "dict_keys(['notebook asus', 'iphone', 'samsung galaxy', 'tv samsung', 'ps5', 'tablet', 'notebook dell', 'ipad', 'tv philco', 'notebook hp'])\n",
      "dict_values([2450, 15000, 12000, 10000, 14300, 1720, 17000, 1000, 2500, 1000])\n"
     ]
    }
   ],
   "source": [
    "chaves = vendas_tecnologia.keys()\n",
    "valores = vendas_tecnologia.values()\n",
    "print(chaves)\n",
    "print(valores)"
   ]
  },
  {
   "cell_type": "code",
   "execution_count": 24,
   "metadata": {},
   "outputs": [
    {
     "name": "stdout",
     "output_type": "stream",
     "text": [
      "dict_keys(['notebook asus', 'iphone', 'samsung galaxy', 'tv samsung', 'ps5', 'tablet', 'notebook dell', 'ipad', 'tv philco', 'notebook hp', 'novo_smartphone'])\n",
      "dict_values([2450, 15000, 12000, 10000, 14300, 1720, 17000, 1000, 2500, 1000, 22350])\n",
      "\n",
      "['notebook asus', 'iphone', 'samsung galaxy', 'tv samsung', 'ps5', 'tablet', 'notebook dell', 'ipad', 'tv philco', 'notebook hp', 'novo_smartphone']\n",
      "[2450, 15000, 12000, 10000, 14300, 1720, 17000, 1000, 2500, 1000, 22350]\n"
     ]
    }
   ],
   "source": [
    "vendas_tecnologia['novo_smartphone'] = 22350\n",
    "\n",
    "print(chaves)\n",
    "print(valores)\n",
    "\n",
    "print()\n",
    "\n",
    "print(list(chaves))\n",
    "print(list(valores))"
   ]
  },
  {
   "cell_type": "markdown",
   "metadata": {},
   "source": [
    "### O for vai funcionar normal em dict_listas, porque não deixa de ser uma lista de itens que pode ser percorrida (iterable), mas o que aprendemos de lista não necessariamente se aplicam a essas dict_listas.\n",
    "\n",
    "Para transformar as dict_listas em listas normais, usamos a função list:\n",
    "\n",
    "- lista_chaves = list(dicionario.keys())"
   ]
  },
  {
   "cell_type": "markdown",
   "metadata": {},
   "source": [
    "- Pode ser útil caso a gente queira fazer alguma organização das chaves. Ex: Imprimir uma lista com os valores em ordem alfabética, de forma que todas as tvs fiquem juntas, todos os iphone/ipad também e assim vai:"
   ]
  },
  {
   "cell_type": "code",
   "execution_count": 30,
   "metadata": {},
   "outputs": [
    {
     "name": "stdout",
     "output_type": "stream",
     "text": [
      "notebook asus: 2450 unidades\n",
      "iphone: 15000 unidades\n",
      "samsung galaxy: 12000 unidades\n",
      "tv samsung: 10000 unidades\n",
      "ps5: 14300 unidades\n",
      "tablet: 1720 unidades\n",
      "notebook dell: 17000 unidades\n",
      "ipad: 1000 unidades\n",
      "tv philco: 2500 unidades\n",
      "notebook hp: 1000 unidades\n",
      "novo_smartphone: 22350 unidades\n",
      "----------------------------------------\n",
      "Em ordem alfabética:\n",
      "Ipad: 1000 unidades\n",
      "Iphone: 15000 unidades\n",
      "Notebook Asus: 2450 unidades\n",
      "Notebook Dell: 17000 unidades\n",
      "Notebook Hp: 1000 unidades\n",
      "Novo_Smartphone: 22350 unidades\n",
      "Ps5: 14300 unidades\n",
      "Samsung Galaxy: 12000 unidades\n",
      "Tablet: 1720 unidades\n",
      "Tv Philco: 2500 unidades\n",
      "Tv Samsung: 10000 unidades\n"
     ]
    }
   ],
   "source": [
    "for chave in vendas_tecnologia:\n",
    "     print('{}: {} unidades'.format(chave, vendas_tecnologia[chave]))\n",
    "\n",
    "print('-' * 40)\n",
    "\n",
    "# Organizar itens em ordem alfabética crescente\n",
    "lista_chaves = list(chaves)\n",
    "lista_chaves.sort()\n",
    "\n",
    "print('Em ordem alfabética:')\n",
    "for chave in lista_chaves:\n",
    "     print('{}: {} unidades'.format(chave.title(), vendas_tecnologia[chave]))"
   ]
  }
 ],
 "metadata": {
  "kernelspec": {
   "display_name": "Python 3",
   "language": "python",
   "name": "python3"
  },
  "language_info": {
   "codemirror_mode": {
    "name": "ipython",
    "version": 3
   },
   "file_extension": ".py",
   "mimetype": "text/x-python",
   "name": "python",
   "nbconvert_exporter": "python",
   "pygments_lexer": "ipython3",
   "version": "3.11.5"
  }
 },
 "nbformat": 4,
 "nbformat_minor": 4
}
